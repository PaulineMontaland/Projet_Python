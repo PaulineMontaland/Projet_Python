{
  "nbformat": 4,
  "nbformat_minor": 0,
  "metadata": {
    "colab": {
      "name": "Projet_DAD_Montaland_Lallier_Vagneck_Moindrot.ipynb",
      "provenance": [],
      "collapsed_sections": [
        "LaVkHdId2NRZ",
        "y4KWel5olHg0",
        "yanHarv3178i",
        "9rm_ye6U3JZc",
        "w4m7_zh1b8Vz",
        "83nuDlwr7iNo",
        "Q-XOKI4_zoBo",
        "R75dIko0DTsS",
        "phZoMNtLRjvb"
      ]
    },
    "kernelspec": {
      "name": "python3",
      "display_name": "Python 3"
    },
    "language_info": {
      "name": "python"
    }
  },
  "cells": [
    {
      "cell_type": "markdown",
      "metadata": {
        "id": "LaVkHdId2NRZ"
      },
      "source": [
        "# **Importation des données**\n"
      ]
    },
    {
      "cell_type": "code",
      "metadata": {
        "colab": {
          "base_uri": "https://localhost:8080/"
        },
        "id": "liBVbSIO2TSw",
        "outputId": "22496e58-9b7f-40af-c218-6305d3c450dd",
        "cellView": "form"
      },
      "source": [
        "#@title\n",
        "#On commence par importer les données \n",
        "import pandas as pd\n",
        "\n",
        "logement = pd.read_excel(\"logement.xlsx\")\n",
        "logement.head()\n",
        "\n",
        "population = pd.read_excel(\"population.xlsx\")\n",
        "population.head()\n",
        "\n",
        "valeur = pd.read_csv(\"valeur.csv\")\n",
        "valeur.head()"
      ],
      "execution_count": null,
      "outputs": [
        {
          "output_type": "execute_result",
          "data": {
            "text/html": [
              "<div>\n",
              "<style scoped>\n",
              "    .dataframe tbody tr th:only-of-type {\n",
              "        vertical-align: middle;\n",
              "    }\n",
              "\n",
              "    .dataframe tbody tr th {\n",
              "        vertical-align: top;\n",
              "    }\n",
              "\n",
              "    .dataframe thead th {\n",
              "        text-align: right;\n",
              "    }\n",
              "</style>\n",
              "<table border=\"1\" class=\"dataframe\">\n",
              "  <thead>\n",
              "    <tr style=\"text-align: right;\">\n",
              "      <th></th>\n",
              "      <th>id_mutation</th>\n",
              "      <th>date_mutation</th>\n",
              "      <th>numero_disposition</th>\n",
              "      <th>nature_mutation</th>\n",
              "      <th>valeur_fonciere</th>\n",
              "      <th>adresse_numero</th>\n",
              "      <th>adresse_suffixe</th>\n",
              "      <th>adresse_nom_voie</th>\n",
              "      <th>adresse_code_voie</th>\n",
              "      <th>code_postal</th>\n",
              "      <th>code_commune</th>\n",
              "      <th>nom_commune</th>\n",
              "      <th>code_departement</th>\n",
              "      <th>ancien_code_commune</th>\n",
              "      <th>ancien_nom_commune</th>\n",
              "      <th>id_parcelle</th>\n",
              "      <th>ancien_id_parcelle</th>\n",
              "      <th>numero_volume</th>\n",
              "      <th>lot1_numero</th>\n",
              "      <th>lot1_surface_carrez</th>\n",
              "      <th>lot2_numero</th>\n",
              "      <th>lot2_surface_carrez</th>\n",
              "      <th>lot3_numero</th>\n",
              "      <th>lot3_surface_carrez</th>\n",
              "      <th>lot4_numero</th>\n",
              "      <th>lot4_surface_carrez</th>\n",
              "      <th>lot5_numero</th>\n",
              "      <th>lot5_surface_carrez</th>\n",
              "      <th>nombre_lots</th>\n",
              "      <th>code_type_local</th>\n",
              "      <th>type_local</th>\n",
              "      <th>surface_reelle_bati</th>\n",
              "      <th>nombre_pieces_principales</th>\n",
              "      <th>code_nature_culture</th>\n",
              "      <th>nature_culture</th>\n",
              "      <th>code_nature_culture_speciale</th>\n",
              "      <th>nature_culture_speciale</th>\n",
              "      <th>surface_terrain</th>\n",
              "      <th>longitude</th>\n",
              "      <th>latitude</th>\n",
              "    </tr>\n",
              "  </thead>\n",
              "  <tbody>\n",
              "    <tr>\n",
              "      <th>0</th>\n",
              "      <td>2021-305622</td>\n",
              "      <td>2021-01-04</td>\n",
              "      <td>1</td>\n",
              "      <td>Vente</td>\n",
              "      <td>15000.0</td>\n",
              "      <td>4.0</td>\n",
              "      <td>NaN</td>\n",
              "      <td>RUE DE LA PIEMENTE</td>\n",
              "      <td>5445</td>\n",
              "      <td>69009.0</td>\n",
              "      <td>69389</td>\n",
              "      <td>Lyon 9e Arrondissement</td>\n",
              "      <td>69</td>\n",
              "      <td>NaN</td>\n",
              "      <td>NaN</td>\n",
              "      <td>69389000AX0091</td>\n",
              "      <td>NaN</td>\n",
              "      <td>NaN</td>\n",
              "      <td>1020.0</td>\n",
              "      <td>NaN</td>\n",
              "      <td>NaN</td>\n",
              "      <td>NaN</td>\n",
              "      <td>NaN</td>\n",
              "      <td>NaN</td>\n",
              "      <td>NaN</td>\n",
              "      <td>NaN</td>\n",
              "      <td>NaN</td>\n",
              "      <td>NaN</td>\n",
              "      <td>1</td>\n",
              "      <td>3.0</td>\n",
              "      <td>Dépendance</td>\n",
              "      <td>NaN</td>\n",
              "      <td>0.0</td>\n",
              "      <td>NaN</td>\n",
              "      <td>NaN</td>\n",
              "      <td>NaN</td>\n",
              "      <td>NaN</td>\n",
              "      <td>NaN</td>\n",
              "      <td>4.802697</td>\n",
              "      <td>45.785960</td>\n",
              "    </tr>\n",
              "    <tr>\n",
              "      <th>1</th>\n",
              "      <td>2021-305623</td>\n",
              "      <td>2021-01-05</td>\n",
              "      <td>1</td>\n",
              "      <td>Vente</td>\n",
              "      <td>375000.0</td>\n",
              "      <td>46.0</td>\n",
              "      <td>NaN</td>\n",
              "      <td>RUE DOC ALBERIC PONT</td>\n",
              "      <td>2193</td>\n",
              "      <td>69005.0</td>\n",
              "      <td>69385</td>\n",
              "      <td>Lyon 5e Arrondissement</td>\n",
              "      <td>69</td>\n",
              "      <td>NaN</td>\n",
              "      <td>NaN</td>\n",
              "      <td>69385000BO0189</td>\n",
              "      <td>NaN</td>\n",
              "      <td>NaN</td>\n",
              "      <td>103.0</td>\n",
              "      <td>NaN</td>\n",
              "      <td>NaN</td>\n",
              "      <td>NaN</td>\n",
              "      <td>NaN</td>\n",
              "      <td>NaN</td>\n",
              "      <td>NaN</td>\n",
              "      <td>NaN</td>\n",
              "      <td>NaN</td>\n",
              "      <td>NaN</td>\n",
              "      <td>1</td>\n",
              "      <td>3.0</td>\n",
              "      <td>Dépendance</td>\n",
              "      <td>NaN</td>\n",
              "      <td>0.0</td>\n",
              "      <td>NaN</td>\n",
              "      <td>NaN</td>\n",
              "      <td>NaN</td>\n",
              "      <td>NaN</td>\n",
              "      <td>NaN</td>\n",
              "      <td>4.797315</td>\n",
              "      <td>45.754569</td>\n",
              "    </tr>\n",
              "    <tr>\n",
              "      <th>2</th>\n",
              "      <td>2021-305623</td>\n",
              "      <td>2021-01-05</td>\n",
              "      <td>1</td>\n",
              "      <td>Vente</td>\n",
              "      <td>375000.0</td>\n",
              "      <td>46.0</td>\n",
              "      <td>NaN</td>\n",
              "      <td>RUE DOC ALBERIC PONT</td>\n",
              "      <td>2193</td>\n",
              "      <td>69005.0</td>\n",
              "      <td>69385</td>\n",
              "      <td>Lyon 5e Arrondissement</td>\n",
              "      <td>69</td>\n",
              "      <td>NaN</td>\n",
              "      <td>NaN</td>\n",
              "      <td>69385000BO0189</td>\n",
              "      <td>NaN</td>\n",
              "      <td>NaN</td>\n",
              "      <td>118.0</td>\n",
              "      <td>98.86</td>\n",
              "      <td>95.0</td>\n",
              "      <td>NaN</td>\n",
              "      <td>NaN</td>\n",
              "      <td>NaN</td>\n",
              "      <td>NaN</td>\n",
              "      <td>NaN</td>\n",
              "      <td>NaN</td>\n",
              "      <td>NaN</td>\n",
              "      <td>2</td>\n",
              "      <td>2.0</td>\n",
              "      <td>Appartement</td>\n",
              "      <td>108.0</td>\n",
              "      <td>5.0</td>\n",
              "      <td>NaN</td>\n",
              "      <td>NaN</td>\n",
              "      <td>NaN</td>\n",
              "      <td>NaN</td>\n",
              "      <td>NaN</td>\n",
              "      <td>4.797315</td>\n",
              "      <td>45.754569</td>\n",
              "    </tr>\n",
              "    <tr>\n",
              "      <th>3</th>\n",
              "      <td>2021-305624</td>\n",
              "      <td>2021-01-04</td>\n",
              "      <td>1</td>\n",
              "      <td>Vente</td>\n",
              "      <td>346050.0</td>\n",
              "      <td>6.0</td>\n",
              "      <td>NaN</td>\n",
              "      <td>RUE MASARYK</td>\n",
              "      <td>4643</td>\n",
              "      <td>69009.0</td>\n",
              "      <td>69389</td>\n",
              "      <td>Lyon 9e Arrondissement</td>\n",
              "      <td>69</td>\n",
              "      <td>NaN</td>\n",
              "      <td>NaN</td>\n",
              "      <td>69389000BC0040</td>\n",
              "      <td>NaN</td>\n",
              "      <td>NaN</td>\n",
              "      <td>160.0</td>\n",
              "      <td>82.30</td>\n",
              "      <td>NaN</td>\n",
              "      <td>NaN</td>\n",
              "      <td>NaN</td>\n",
              "      <td>NaN</td>\n",
              "      <td>NaN</td>\n",
              "      <td>NaN</td>\n",
              "      <td>NaN</td>\n",
              "      <td>NaN</td>\n",
              "      <td>1</td>\n",
              "      <td>4.0</td>\n",
              "      <td>Local industriel. commercial ou assimilé</td>\n",
              "      <td>82.0</td>\n",
              "      <td>0.0</td>\n",
              "      <td>NaN</td>\n",
              "      <td>NaN</td>\n",
              "      <td>NaN</td>\n",
              "      <td>NaN</td>\n",
              "      <td>NaN</td>\n",
              "      <td>4.807578</td>\n",
              "      <td>45.778875</td>\n",
              "    </tr>\n",
              "    <tr>\n",
              "      <th>4</th>\n",
              "      <td>2021-305624</td>\n",
              "      <td>2021-01-04</td>\n",
              "      <td>1</td>\n",
              "      <td>Vente</td>\n",
              "      <td>346050.0</td>\n",
              "      <td>4.0</td>\n",
              "      <td>NaN</td>\n",
              "      <td>RUE MASARYK</td>\n",
              "      <td>4643</td>\n",
              "      <td>69009.0</td>\n",
              "      <td>69389</td>\n",
              "      <td>Lyon 9e Arrondissement</td>\n",
              "      <td>69</td>\n",
              "      <td>NaN</td>\n",
              "      <td>NaN</td>\n",
              "      <td>69389000BC0040</td>\n",
              "      <td>NaN</td>\n",
              "      <td>NaN</td>\n",
              "      <td>77.0</td>\n",
              "      <td>NaN</td>\n",
              "      <td>NaN</td>\n",
              "      <td>NaN</td>\n",
              "      <td>NaN</td>\n",
              "      <td>NaN</td>\n",
              "      <td>NaN</td>\n",
              "      <td>NaN</td>\n",
              "      <td>NaN</td>\n",
              "      <td>NaN</td>\n",
              "      <td>1</td>\n",
              "      <td>3.0</td>\n",
              "      <td>Dépendance</td>\n",
              "      <td>NaN</td>\n",
              "      <td>0.0</td>\n",
              "      <td>NaN</td>\n",
              "      <td>NaN</td>\n",
              "      <td>NaN</td>\n",
              "      <td>NaN</td>\n",
              "      <td>NaN</td>\n",
              "      <td>4.807578</td>\n",
              "      <td>45.778875</td>\n",
              "    </tr>\n",
              "  </tbody>\n",
              "</table>\n",
              "</div>"
            ],
            "text/plain": [
              "   id_mutation date_mutation  ...  longitude   latitude\n",
              "0  2021-305622    2021-01-04  ...   4.802697  45.785960\n",
              "1  2021-305623    2021-01-05  ...   4.797315  45.754569\n",
              "2  2021-305623    2021-01-05  ...   4.797315  45.754569\n",
              "3  2021-305624    2021-01-04  ...   4.807578  45.778875\n",
              "4  2021-305624    2021-01-04  ...   4.807578  45.778875\n",
              "\n",
              "[5 rows x 40 columns]"
            ]
          },
          "metadata": {},
          "execution_count": 67
        }
      ]
    },
    {
      "cell_type": "markdown",
      "metadata": {
        "id": "y4KWel5olHg0"
      },
      "source": [
        "# Prix moyen du m² pour les appartements et pour les maisons\n"
      ]
    },
    {
      "cell_type": "markdown",
      "metadata": {
        "id": "Ge7TIKKHlWvq"
      },
      "source": [
        "Prix moyen pour les appartement et pour les maisons"
      ]
    },
    {
      "cell_type": "code",
      "metadata": {
        "id": "lb8NrvUBW3xg",
        "cellView": "form"
      },
      "source": [
        "#@title\n",
        "#On télecharge la bibliothèque Numpy, elle permet d’effectuer des calculs numériques avec Python. \n",
        "import numpy as np"
      ],
      "execution_count": null,
      "outputs": []
    },
    {
      "cell_type": "code",
      "source": [
        "#@title\n",
        "#on retrouve le prix moyen  de mètre carré par appartements\n",
        "prixmoyen_appart = valeur[valeur.type_local==\"Appartement\"]\n",
        "prixm2moyenappart = prixmoyen_appart[\"valeur_fonciere\"].mean()/prixmoyen_appart[\"surface_reelle_bati\"].mean()\n",
        "\n",
        "print(\"Prix moyen du m² des appartements : '{:.2f} €'\".format(prixm2moyenappart))"
      ],
      "metadata": {
        "colab": {
          "base_uri": "https://localhost:8080/"
        },
        "id": "TjTcxFGel6Cz",
        "outputId": "07d8c69c-04da-42bd-acde-2dd7d8afc238",
        "cellView": "form"
      },
      "execution_count": null,
      "outputs": [
        {
          "output_type": "stream",
          "name": "stdout",
          "text": [
            "Prix moyen du m² des appartements : '5440.14 €'\n"
          ]
        }
      ]
    },
    {
      "cell_type": "code",
      "source": [
        "#@title\n",
        "#on obtient le prix moyen du mètre carré par maison\n",
        "prixmoyen_maison = valeur[valeur.type_local==\"Maison\"]\n",
        "prixm2moyenmaison = prixmoyen_maison[\"valeur_fonciere\"].mean()/prixmoyen_maison[\"surface_reelle_bati\"].mean()\n",
        "\n",
        "print(\"Prix moyenne du m² des maisons : '{:.2f} €'\".format(prixm2moyenmaison))"
      ],
      "metadata": {
        "colab": {
          "base_uri": "https://localhost:8080/"
        },
        "id": "KV0b7NQsmbvQ",
        "outputId": "9a71c2a2-5c39-477f-9914-ded1d7f79038",
        "cellView": "form"
      },
      "execution_count": null,
      "outputs": [
        {
          "output_type": "stream",
          "name": "stdout",
          "text": [
            "Prix moyenne du m² des maisons : '3974.87 €'\n"
          ]
        }
      ]
    },
    {
      "cell_type": "code",
      "source": [
        ""
      ],
      "metadata": {
        "id": "A2PJ2UMgxd8W"
      },
      "execution_count": null,
      "outputs": []
    },
    {
      "cell_type": "markdown",
      "metadata": {
        "id": "yanHarv3178i"
      },
      "source": [
        "# Prix médian du m² pour les appartements et pour les maisons "
      ]
    },
    {
      "cell_type": "code",
      "source": [
        "#@title\n",
        "#on obtient le prix median du mètre carré par appartement\n",
        "valeur_appart = valeur[valeur.type_local==\"Appartement\"]\n",
        "prixm2medianappart = valeur_appart[\"valeur_fonciere\"].median()/valeur_appart[\"surface_reelle_bati\"].median()\n",
        "\n",
        "print(\"Prix médian du m² des appartements : '{:.2f} €'\".format(prixm2medianappart))"
      ],
      "metadata": {
        "colab": {
          "base_uri": "https://localhost:8080/"
        },
        "id": "EJ_fXiKUJJVG",
        "outputId": "8629a8ae-fe14-40e1-95b2-cc8fdc206da9",
        "cellView": "form"
      },
      "execution_count": null,
      "outputs": [
        {
          "output_type": "stream",
          "name": "stdout",
          "text": [
            "Prix médian du m² des appartements : '3553.85 €'\n"
          ]
        }
      ]
    },
    {
      "cell_type": "code",
      "source": [
        "#@title\n",
        "#on obtient le prix median du mètre carré par maison\n",
        "valeur_maison = valeur[valeur.type_local==\"Maison\"]\n",
        "prixm2medianmaison = valeur_maison[\"valeur_fonciere\"].median()/valeur_maison[\"surface_reelle_bati\"].median()\n",
        "\n",
        "print(\"Prix médian du m² des maisons : '{:.2f} €'\".format(prixm2medianmaison))"
      ],
      "metadata": {
        "colab": {
          "base_uri": "https://localhost:8080/"
        },
        "id": "dUDTf2q3lJCf",
        "outputId": "4a4fc2f2-bc83-4bb5-e19b-0d74d30bb38b",
        "cellView": "form"
      },
      "execution_count": null,
      "outputs": [
        {
          "output_type": "stream",
          "name": "stdout",
          "text": [
            "Prix médian du m² des maisons : '3619.05 €'\n"
          ]
        }
      ]
    },
    {
      "cell_type": "code",
      "source": [
        "#@title\n",
        "#mise en forme des données moyen et médian du prix au m² des appartements et maisons\n",
        "data = {'Appartements':{'Prix moyen du m²':prixm2moyenappart,'Prix médian du m²':prixm2medianappart},'Maisons':{'Prix moyen du m²':prixm2moyenmaison,'Prix médian du m²':prixm2medianmaison}}\n",
        "df = pd.DataFrame(data=data)\n",
        "df.style.format({'Appartements': '{:.2f} €','Maisons': '{:.2f} €'})"
      ],
      "metadata": {
        "colab": {
          "base_uri": "https://localhost:8080/",
          "height": 112
        },
        "id": "CzrOOarcKcal",
        "outputId": "204021cf-7f1a-4977-bae1-7ecd1dea366d",
        "cellView": "form"
      },
      "execution_count": null,
      "outputs": [
        {
          "output_type": "execute_result",
          "data": {
            "text/html": [
              "<style  type=\"text/css\" >\n",
              "</style><table id=\"T_ad6a2556_5c5e_11ec_8c58_0242ac1c0002\" class=\"dataframe\"><thead>    <tr>        <th class=\"blank level0\" ></th>        <th class=\"col_heading level0 col0\" >Appartements</th>        <th class=\"col_heading level0 col1\" >Maisons</th>    </tr></thead><tbody>\n",
              "                <tr>\n",
              "                        <th id=\"T_ad6a2556_5c5e_11ec_8c58_0242ac1c0002level0_row0\" class=\"row_heading level0 row0\" >Prix moyen du m²</th>\n",
              "                        <td id=\"T_ad6a2556_5c5e_11ec_8c58_0242ac1c0002row0_col0\" class=\"data row0 col0\" >5440.14 €</td>\n",
              "                        <td id=\"T_ad6a2556_5c5e_11ec_8c58_0242ac1c0002row0_col1\" class=\"data row0 col1\" >3974.87 €</td>\n",
              "            </tr>\n",
              "            <tr>\n",
              "                        <th id=\"T_ad6a2556_5c5e_11ec_8c58_0242ac1c0002level0_row1\" class=\"row_heading level0 row1\" >Prix médian du m²</th>\n",
              "                        <td id=\"T_ad6a2556_5c5e_11ec_8c58_0242ac1c0002row1_col0\" class=\"data row1 col0\" >3553.85 €</td>\n",
              "                        <td id=\"T_ad6a2556_5c5e_11ec_8c58_0242ac1c0002row1_col1\" class=\"data row1 col1\" >3619.05 €</td>\n",
              "            </tr>\n",
              "    </tbody></table>"
            ],
            "text/plain": [
              "<pandas.io.formats.style.Styler at 0x7f47c979e410>"
            ]
          },
          "metadata": {},
          "execution_count": 73
        }
      ]
    },
    {
      "cell_type": "code",
      "source": [
        ""
      ],
      "metadata": {
        "id": "ACB8SSOpxnRs"
      },
      "execution_count": null,
      "outputs": []
    },
    {
      "cell_type": "markdown",
      "metadata": {
        "id": "9rm_ye6U3JZc"
      },
      "source": [
        "# Proportion appartements / maisons, résidences principales / secondaires"
      ]
    },
    {
      "cell_type": "code",
      "metadata": {
        "colab": {
          "base_uri": "https://localhost:8080/"
        },
        "id": "Ia-R15hm2reD",
        "outputId": "da5ba519-b889-4cbd-b80c-8705e526bfba",
        "cellView": "form"
      },
      "source": [
        "#@title\n",
        "#On calule le nombre de maisons\n",
        "nbmaison = sum(logement['P17_MAISON'])\n",
        "print(\"Nombre de maison : {:.0f}\".format(nbmaison))"
      ],
      "execution_count": null,
      "outputs": [
        {
          "output_type": "stream",
          "name": "stdout",
          "text": [
            "Nombre de maison : 262919\n"
          ]
        }
      ]
    },
    {
      "cell_type": "code",
      "metadata": {
        "colab": {
          "base_uri": "https://localhost:8080/"
        },
        "id": "C0nqc2sy20Gs",
        "outputId": "07e4d9a9-b68e-41a4-c7ee-40d999cecc33",
        "cellView": "form"
      },
      "source": [
        "#@title\n",
        "#On calcule le nombre d'appartements\n",
        "nbappart = sum(logement['P17_APPART'])\n",
        "print(\"Nombre d'appartements : {:.0f}\".format(nbappart))"
      ],
      "execution_count": null,
      "outputs": [
        {
          "output_type": "stream",
          "name": "stdout",
          "text": [
            "Nombre d'appartements : 639219\n"
          ]
        }
      ]
    },
    {
      "cell_type": "code",
      "metadata": {
        "colab": {
          "base_uri": "https://localhost:8080/"
        },
        "id": "RF7G6IDq20BT",
        "outputId": "ba7a64de-f1e0-462f-c3c8-8079a71e42e8",
        "cellView": "form"
      },
      "source": [
        "#@title\n",
        "#On calcule le nombre total de logements \n",
        "nblog = sum(logement['P17_LOG'])\n",
        "print(\"Nombre total de logements : {:.0f}\".format(nblog))"
      ],
      "execution_count": null,
      "outputs": [
        {
          "output_type": "stream",
          "name": "stdout",
          "text": [
            "Nombre total de logements : 914980\n"
          ]
        }
      ]
    },
    {
      "cell_type": "code",
      "metadata": {
        "colab": {
          "base_uri": "https://localhost:8080/"
        },
        "id": "z9u3gV7E3Hme",
        "outputId": "05335b92-30b3-4064-b223-413e90211b35",
        "cellView": "form"
      },
      "source": [
        "#@title\n",
        "#On calcule le nombre de résidences principales \n",
        "nbrp = sum(logement['P17_RP'])\n",
        "print(\"Nombre de résidences principales : {:.0f}\".format(nbrp))"
      ],
      "execution_count": null,
      "outputs": [
        {
          "output_type": "stream",
          "name": "stdout",
          "text": [
            "Nombre de résidences principales : 818114\n"
          ]
        }
      ]
    },
    {
      "cell_type": "code",
      "metadata": {
        "colab": {
          "base_uri": "https://localhost:8080/"
        },
        "id": "DW7P6N_n3N29",
        "outputId": "2ee7b202-4476-4b28-9e98-1f546913d337",
        "cellView": "form"
      },
      "source": [
        "#@title\n",
        "#On calcule le nombre de résidences secondaires occasionnelles \n",
        "nbrso = sum(logement['P17_RSECOCC'])\n",
        "print(\"Nombre de résidences secondaires occasionnelles : {:.0f}\".format(nbrso))"
      ],
      "execution_count": null,
      "outputs": [
        {
          "output_type": "stream",
          "name": "stdout",
          "text": [
            "Nombre de résidences secondaires occasionnelles : 28431\n"
          ]
        }
      ]
    },
    {
      "cell_type": "code",
      "source": [
        "#@title\n",
        "#On calcule le nombre de résidences de vacances\n",
        "nbvac = sum(logement['P17_LOGVAC'])\n",
        "print(\"Nombre de logements vacances : {:.0f}\".format(nbvac))"
      ],
      "metadata": {
        "colab": {
          "base_uri": "https://localhost:8080/"
        },
        "id": "AkRSbmU8s5QC",
        "outputId": "3515f7ed-ccaa-44a8-e70a-dc4f8a0b8b3b",
        "cellView": "form"
      },
      "execution_count": null,
      "outputs": [
        {
          "output_type": "stream",
          "name": "stdout",
          "text": [
            "Nombre de logements vacances : 68435\n"
          ]
        }
      ]
    },
    {
      "cell_type": "code",
      "metadata": {
        "colab": {
          "base_uri": "https://localhost:8080/"
        },
        "id": "Z_yTCoke3Ue2",
        "outputId": "5087c133-9442-4078-e8bc-0d773ed451f8",
        "cellView": "form"
      },
      "source": [
        "#@title\n",
        "#On calcule la proportion des maisons\n",
        "propmaison = nbmaison/nblog\n",
        "print(\"Proportion des maisons par rapport à l'ensemble : {:.2%}\".format(propmaison))"
      ],
      "execution_count": null,
      "outputs": [
        {
          "output_type": "stream",
          "name": "stdout",
          "text": [
            "Proportion des maisons par rapport à l'ensemble : 28.73%\n"
          ]
        }
      ]
    },
    {
      "cell_type": "code",
      "metadata": {
        "colab": {
          "base_uri": "https://localhost:8080/"
        },
        "id": "SbQWCKlC3ZG3",
        "outputId": "70febad1-2630-4c1b-ffb8-d724f8c1b33b",
        "cellView": "form"
      },
      "source": [
        "#@title\n",
        "#On calcule la proportion des appartements\n",
        "propappart = nbappart/nblog\n",
        "print(\"Proportion des appartements par rapport à l'ensemble : {:.2%}\".format(propappart))"
      ],
      "execution_count": null,
      "outputs": [
        {
          "output_type": "stream",
          "name": "stdout",
          "text": [
            "Proportion des appartements par rapport à l'ensemble : 69.86%\n"
          ]
        }
      ]
    },
    {
      "cell_type": "code",
      "metadata": {
        "colab": {
          "base_uri": "https://localhost:8080/"
        },
        "id": "v153SK4K3dj_",
        "outputId": "6a693260-e922-4d06-d2c5-10835d494672",
        "cellView": "form"
      },
      "source": [
        "#@title\n",
        "#On calcule la proportion des résidences principales\n",
        "proprp = nbrp/nblog\n",
        "print(\"Proportion des résidences principales par rapport à l'ensemble : {:.2%}\".format(proprp))"
      ],
      "execution_count": null,
      "outputs": [
        {
          "output_type": "stream",
          "name": "stdout",
          "text": [
            "Proportion des résidences principales par rapport à l'ensemble : 89.41%\n"
          ]
        }
      ]
    },
    {
      "cell_type": "code",
      "metadata": {
        "colab": {
          "base_uri": "https://localhost:8080/"
        },
        "id": "y2ePkJUl3lZ2",
        "outputId": "d89df329-92e0-4354-9650-3e7de3302280",
        "cellView": "form"
      },
      "source": [
        "#@title\n",
        "#On calcule la proportion des résidences secondaires occasionnels \n",
        "proprso = (nbrso+nbvac)/nblog #on estime que les logements vacances appartiennent aux logements secondaires\n",
        "print(\"Proportion des résidences secondaires occasionnels par rapport à l'ensemble : {:.2%}\".format(proprso))"
      ],
      "execution_count": null,
      "outputs": [
        {
          "output_type": "stream",
          "name": "stdout",
          "text": [
            "Proportion des résidences secondaires occasionnels par rapport à l'ensemble : 10.59%\n"
          ]
        }
      ]
    },
    {
      "cell_type": "code",
      "metadata": {
        "colab": {
          "base_uri": "https://localhost:8080/",
          "height": 266
        },
        "id": "PbRlRBOs3qr-",
        "outputId": "fb41ef83-9acf-43ab-c7ad-dfc751f1d749",
        "cellView": "form"
      },
      "source": [
        "#@title\n",
        "#On crée un diagramme circulaire représentant la répartition des maisons et appartements \n",
        "import matplotlib.pyplot as plt\n",
        "\n",
        "labels = 'Appartements', 'Maisons'\n",
        "sizes = [propmaison, propappart]\n",
        "colors = ['teal', 'cadetblue']\n",
        "\n",
        "plt.pie(sizes, labels=labels, colors=colors, \n",
        "        autopct='%1.1f%%', shadow=True, startangle=90)\n",
        "\n",
        "plt.axis('equal')\n",
        "\n",
        "plt.savefig('PieChart01.png')\n",
        "plt.title('Répartition des maisons et appartements', fontsize=14)\n",
        "plt.show()"
      ],
      "execution_count": null,
      "outputs": [
        {
          "output_type": "display_data",
          "data": {
            "image/png": "[encoded data removed]",
            "text/plain": [
              "<Figure size 432x288 with 1 Axes>"
            ]
          },
          "metadata": {}
        }
      ]
    },
    {
      "cell_type": "code",
      "metadata": {
        "colab": {
          "base_uri": "https://localhost:8080/",
          "height": 264
        },
        "id": "X8lyRpyY33BC",
        "outputId": "ebcca705-ba2b-4668-fe14-23e4f04788d9",
        "cellView": "form"
      },
      "source": [
        "#@title\n",
        "#On crée un diagramme circulaire représentant la répartition des résidences principales et secondaires\n",
        "\n",
        "labels = 'Résidence principales', 'Résidence secondaire',\n",
        "sizes = [proprp, proprso]\n",
        "colors = ['palevioletred', 'pink']\n",
        "\n",
        "plt.pie(sizes, labels=labels, colors=colors, \n",
        "        autopct='%1.1f%%', shadow=True, startangle=90)\n",
        "\n",
        "plt.axis('equal')\n",
        "\n",
        "plt.savefig('PieChart01.png')\n",
        "plt.title('Répartition des résidences principales et secondaires', fontsize=12)\n",
        "plt.show()"
      ],
      "execution_count": null,
      "outputs": [
        {
          "output_type": "display_data",
          "data": {
            "image/png": "[encoded data removed]",
            "text/plain": [
              "<Figure size 432x288 with 1 Axes>"
            ]
          },
          "metadata": {}
        }
      ]
    },
    {
      "cell_type": "markdown",
      "source": [
        "#Distribution du nombre de pièces par logement"
      ],
      "metadata": {
        "id": "w4m7_zh1b8Vz"
      }
    },
    {
      "cell_type": "code",
      "source": [
        "\n",
        "#@title\n",
        "\n",
        "#Le but est de retirer les valeurs Null et les transformer en 0\n",
        "\n",
        "valeur['nombre_lots'] = valeur['nombre_lots']. fillna (0) \n",
        "\n",
        "valeur['nombre_pieces_principales'] = valeur['nombre_pieces_principales']. fillna (0)\n",
        "\n",
        "valeur"
      ],
      "metadata": {
        "colab": {
          "base_uri": "https://localhost:8080/",
          "height": 652
        },
        "id": "1YA2PAe52XPg",
        "outputId": "01a54918-a1dc-4697-c7a9-cec2251e6e6d",
        "cellView": "form",
        "collapsed": true
      },
      "execution_count": null,
      "outputs": [
        {
          "output_type": "execute_result",
          "data": {
            "text/html": [
              "<div>\n",
              "<style scoped>\n",
              "    .dataframe tbody tr th:only-of-type {\n",
              "        vertical-align: middle;\n",
              "    }\n",
              "\n",
              "    .dataframe tbody tr th {\n",
              "        vertical-align: top;\n",
              "    }\n",
              "\n",
              "    .dataframe thead th {\n",
              "        text-align: right;\n",
              "    }\n",
              "</style>\n",
              "<table border=\"1\" class=\"dataframe\">\n",
              "  <thead>\n",
              "    <tr style=\"text-align: right;\">\n",
              "      <th></th>\n",
              "      <th>id_mutation</th>\n",
              "      <th>date_mutation</th>\n",
              "      <th>numero_disposition</th>\n",
              "      <th>nature_mutation</th>\n",
              "      <th>valeur_fonciere</th>\n",
              "      <th>adresse_numero</th>\n",
              "      <th>adresse_suffixe</th>\n",
              "      <th>adresse_nom_voie</th>\n",
              "      <th>adresse_code_voie</th>\n",
              "      <th>code_postal</th>\n",
              "      <th>code_commune</th>\n",
              "      <th>nom_commune</th>\n",
              "      <th>code_departement</th>\n",
              "      <th>ancien_code_commune</th>\n",
              "      <th>ancien_nom_commune</th>\n",
              "      <th>id_parcelle</th>\n",
              "      <th>ancien_id_parcelle</th>\n",
              "      <th>numero_volume</th>\n",
              "      <th>lot1_numero</th>\n",
              "      <th>lot1_surface_carrez</th>\n",
              "      <th>lot2_numero</th>\n",
              "      <th>lot2_surface_carrez</th>\n",
              "      <th>lot3_numero</th>\n",
              "      <th>lot3_surface_carrez</th>\n",
              "      <th>lot4_numero</th>\n",
              "      <th>lot4_surface_carrez</th>\n",
              "      <th>lot5_numero</th>\n",
              "      <th>lot5_surface_carrez</th>\n",
              "      <th>nombre_lots</th>\n",
              "      <th>code_type_local</th>\n",
              "      <th>type_local</th>\n",
              "      <th>surface_reelle_bati</th>\n",
              "      <th>nombre_pieces_principales</th>\n",
              "      <th>code_nature_culture</th>\n",
              "      <th>nature_culture</th>\n",
              "      <th>code_nature_culture_speciale</th>\n",
              "      <th>nature_culture_speciale</th>\n",
              "      <th>surface_terrain</th>\n",
              "      <th>longitude</th>\n",
              "      <th>latitude</th>\n",
              "    </tr>\n",
              "  </thead>\n",
              "  <tbody>\n",
              "    <tr>\n",
              "      <th>0</th>\n",
              "      <td>2021-305622</td>\n",
              "      <td>2021-01-04</td>\n",
              "      <td>1</td>\n",
              "      <td>Vente</td>\n",
              "      <td>15000.0</td>\n",
              "      <td>4.0</td>\n",
              "      <td>NaN</td>\n",
              "      <td>RUE DE LA PIEMENTE</td>\n",
              "      <td>5445</td>\n",
              "      <td>69009.0</td>\n",
              "      <td>69389</td>\n",
              "      <td>Lyon 9e Arrondissement</td>\n",
              "      <td>69</td>\n",
              "      <td>NaN</td>\n",
              "      <td>NaN</td>\n",
              "      <td>69389000AX0091</td>\n",
              "      <td>NaN</td>\n",
              "      <td>NaN</td>\n",
              "      <td>1020.0</td>\n",
              "      <td>NaN</td>\n",
              "      <td>NaN</td>\n",
              "      <td>NaN</td>\n",
              "      <td>NaN</td>\n",
              "      <td>NaN</td>\n",
              "      <td>NaN</td>\n",
              "      <td>NaN</td>\n",
              "      <td>NaN</td>\n",
              "      <td>NaN</td>\n",
              "      <td>1</td>\n",
              "      <td>3.0</td>\n",
              "      <td>Dépendance</td>\n",
              "      <td>NaN</td>\n",
              "      <td>0.0</td>\n",
              "      <td>NaN</td>\n",
              "      <td>NaN</td>\n",
              "      <td>NaN</td>\n",
              "      <td>NaN</td>\n",
              "      <td>NaN</td>\n",
              "      <td>4.802697</td>\n",
              "      <td>45.785960</td>\n",
              "    </tr>\n",
              "    <tr>\n",
              "      <th>1</th>\n",
              "      <td>2021-305623</td>\n",
              "      <td>2021-01-05</td>\n",
              "      <td>1</td>\n",
              "      <td>Vente</td>\n",
              "      <td>375000.0</td>\n",
              "      <td>46.0</td>\n",
              "      <td>NaN</td>\n",
              "      <td>RUE DOC ALBERIC PONT</td>\n",
              "      <td>2193</td>\n",
              "      <td>69005.0</td>\n",
              "      <td>69385</td>\n",
              "      <td>Lyon 5e Arrondissement</td>\n",
              "      <td>69</td>\n",
              "      <td>NaN</td>\n",
              "      <td>NaN</td>\n",
              "      <td>69385000BO0189</td>\n",
              "      <td>NaN</td>\n",
              "      <td>NaN</td>\n",
              "      <td>103.0</td>\n",
              "      <td>NaN</td>\n",
              "      <td>NaN</td>\n",
              "      <td>NaN</td>\n",
              "      <td>NaN</td>\n",
              "      <td>NaN</td>\n",
              "      <td>NaN</td>\n",
              "      <td>NaN</td>\n",
              "      <td>NaN</td>\n",
              "      <td>NaN</td>\n",
              "      <td>1</td>\n",
              "      <td>3.0</td>\n",
              "      <td>Dépendance</td>\n",
              "      <td>NaN</td>\n",
              "      <td>0.0</td>\n",
              "      <td>NaN</td>\n",
              "      <td>NaN</td>\n",
              "      <td>NaN</td>\n",
              "      <td>NaN</td>\n",
              "      <td>NaN</td>\n",
              "      <td>4.797315</td>\n",
              "      <td>45.754569</td>\n",
              "    </tr>\n",
              "    <tr>\n",
              "      <th>2</th>\n",
              "      <td>2021-305623</td>\n",
              "      <td>2021-01-05</td>\n",
              "      <td>1</td>\n",
              "      <td>Vente</td>\n",
              "      <td>375000.0</td>\n",
              "      <td>46.0</td>\n",
              "      <td>NaN</td>\n",
              "      <td>RUE DOC ALBERIC PONT</td>\n",
              "      <td>2193</td>\n",
              "      <td>69005.0</td>\n",
              "      <td>69385</td>\n",
              "      <td>Lyon 5e Arrondissement</td>\n",
              "      <td>69</td>\n",
              "      <td>NaN</td>\n",
              "      <td>NaN</td>\n",
              "      <td>69385000BO0189</td>\n",
              "      <td>NaN</td>\n",
              "      <td>NaN</td>\n",
              "      <td>118.0</td>\n",
              "      <td>98.86</td>\n",
              "      <td>95.0</td>\n",
              "      <td>NaN</td>\n",
              "      <td>NaN</td>\n",
              "      <td>NaN</td>\n",
              "      <td>NaN</td>\n",
              "      <td>NaN</td>\n",
              "      <td>NaN</td>\n",
              "      <td>NaN</td>\n",
              "      <td>2</td>\n",
              "      <td>2.0</td>\n",
              "      <td>Appartement</td>\n",
              "      <td>108.0</td>\n",
              "      <td>5.0</td>\n",
              "      <td>NaN</td>\n",
              "      <td>NaN</td>\n",
              "      <td>NaN</td>\n",
              "      <td>NaN</td>\n",
              "      <td>NaN</td>\n",
              "      <td>4.797315</td>\n",
              "      <td>45.754569</td>\n",
              "    </tr>\n",
              "    <tr>\n",
              "      <th>3</th>\n",
              "      <td>2021-305624</td>\n",
              "      <td>2021-01-04</td>\n",
              "      <td>1</td>\n",
              "      <td>Vente</td>\n",
              "      <td>346050.0</td>\n",
              "      <td>6.0</td>\n",
              "      <td>NaN</td>\n",
              "      <td>RUE MASARYK</td>\n",
              "      <td>4643</td>\n",
              "      <td>69009.0</td>\n",
              "      <td>69389</td>\n",
              "      <td>Lyon 9e Arrondissement</td>\n",
              "      <td>69</td>\n",
              "      <td>NaN</td>\n",
              "      <td>NaN</td>\n",
              "      <td>69389000BC0040</td>\n",
              "      <td>NaN</td>\n",
              "      <td>NaN</td>\n",
              "      <td>160.0</td>\n",
              "      <td>82.30</td>\n",
              "      <td>NaN</td>\n",
              "      <td>NaN</td>\n",
              "      <td>NaN</td>\n",
              "      <td>NaN</td>\n",
              "      <td>NaN</td>\n",
              "      <td>NaN</td>\n",
              "      <td>NaN</td>\n",
              "      <td>NaN</td>\n",
              "      <td>1</td>\n",
              "      <td>4.0</td>\n",
              "      <td>Local industriel. commercial ou assimilé</td>\n",
              "      <td>82.0</td>\n",
              "      <td>0.0</td>\n",
              "      <td>NaN</td>\n",
              "      <td>NaN</td>\n",
              "      <td>NaN</td>\n",
              "      <td>NaN</td>\n",
              "      <td>NaN</td>\n",
              "      <td>4.807578</td>\n",
              "      <td>45.778875</td>\n",
              "    </tr>\n",
              "    <tr>\n",
              "      <th>4</th>\n",
              "      <td>2021-305624</td>\n",
              "      <td>2021-01-04</td>\n",
              "      <td>1</td>\n",
              "      <td>Vente</td>\n",
              "      <td>346050.0</td>\n",
              "      <td>4.0</td>\n",
              "      <td>NaN</td>\n",
              "      <td>RUE MASARYK</td>\n",
              "      <td>4643</td>\n",
              "      <td>69009.0</td>\n",
              "      <td>69389</td>\n",
              "      <td>Lyon 9e Arrondissement</td>\n",
              "      <td>69</td>\n",
              "      <td>NaN</td>\n",
              "      <td>NaN</td>\n",
              "      <td>69389000BC0040</td>\n",
              "      <td>NaN</td>\n",
              "      <td>NaN</td>\n",
              "      <td>77.0</td>\n",
              "      <td>NaN</td>\n",
              "      <td>NaN</td>\n",
              "      <td>NaN</td>\n",
              "      <td>NaN</td>\n",
              "      <td>NaN</td>\n",
              "      <td>NaN</td>\n",
              "      <td>NaN</td>\n",
              "      <td>NaN</td>\n",
              "      <td>NaN</td>\n",
              "      <td>1</td>\n",
              "      <td>3.0</td>\n",
              "      <td>Dépendance</td>\n",
              "      <td>NaN</td>\n",
              "      <td>0.0</td>\n",
              "      <td>NaN</td>\n",
              "      <td>NaN</td>\n",
              "      <td>NaN</td>\n",
              "      <td>NaN</td>\n",
              "      <td>NaN</td>\n",
              "      <td>4.807578</td>\n",
              "      <td>45.778875</td>\n",
              "    </tr>\n",
              "    <tr>\n",
              "      <th>...</th>\n",
              "      <td>...</td>\n",
              "      <td>...</td>\n",
              "      <td>...</td>\n",
              "      <td>...</td>\n",
              "      <td>...</td>\n",
              "      <td>...</td>\n",
              "      <td>...</td>\n",
              "      <td>...</td>\n",
              "      <td>...</td>\n",
              "      <td>...</td>\n",
              "      <td>...</td>\n",
              "      <td>...</td>\n",
              "      <td>...</td>\n",
              "      <td>...</td>\n",
              "      <td>...</td>\n",
              "      <td>...</td>\n",
              "      <td>...</td>\n",
              "      <td>...</td>\n",
              "      <td>...</td>\n",
              "      <td>...</td>\n",
              "      <td>...</td>\n",
              "      <td>...</td>\n",
              "      <td>...</td>\n",
              "      <td>...</td>\n",
              "      <td>...</td>\n",
              "      <td>...</td>\n",
              "      <td>...</td>\n",
              "      <td>...</td>\n",
              "      <td>...</td>\n",
              "      <td>...</td>\n",
              "      <td>...</td>\n",
              "      <td>...</td>\n",
              "      <td>...</td>\n",
              "      <td>...</td>\n",
              "      <td>...</td>\n",
              "      <td>...</td>\n",
              "      <td>...</td>\n",
              "      <td>...</td>\n",
              "      <td>...</td>\n",
              "      <td>...</td>\n",
              "    </tr>\n",
              "    <tr>\n",
              "      <th>32274</th>\n",
              "      <td>2021-320454</td>\n",
              "      <td>2021-06-23</td>\n",
              "      <td>1</td>\n",
              "      <td>Vente</td>\n",
              "      <td>48500.0</td>\n",
              "      <td>6.0</td>\n",
              "      <td>NaN</td>\n",
              "      <td>RUE DE MONTAGNY</td>\n",
              "      <td>1052</td>\n",
              "      <td>69240.0</td>\n",
              "      <td>69248</td>\n",
              "      <td>Thizy-les-Bourgs</td>\n",
              "      <td>69</td>\n",
              "      <td>NaN</td>\n",
              "      <td>NaN</td>\n",
              "      <td>69248025AB0227</td>\n",
              "      <td>NaN</td>\n",
              "      <td>NaN</td>\n",
              "      <td>16.0</td>\n",
              "      <td>NaN</td>\n",
              "      <td>3.0</td>\n",
              "      <td>74.61</td>\n",
              "      <td>NaN</td>\n",
              "      <td>NaN</td>\n",
              "      <td>NaN</td>\n",
              "      <td>NaN</td>\n",
              "      <td>NaN</td>\n",
              "      <td>NaN</td>\n",
              "      <td>2</td>\n",
              "      <td>2.0</td>\n",
              "      <td>Appartement</td>\n",
              "      <td>69.0</td>\n",
              "      <td>3.0</td>\n",
              "      <td>NaN</td>\n",
              "      <td>NaN</td>\n",
              "      <td>NaN</td>\n",
              "      <td>NaN</td>\n",
              "      <td>NaN</td>\n",
              "      <td>4.293690</td>\n",
              "      <td>46.037205</td>\n",
              "    </tr>\n",
              "    <tr>\n",
              "      <th>32275</th>\n",
              "      <td>2021-320455</td>\n",
              "      <td>2021-06-29</td>\n",
              "      <td>1</td>\n",
              "      <td>Vente</td>\n",
              "      <td>157000.0</td>\n",
              "      <td>31.0</td>\n",
              "      <td>NaN</td>\n",
              "      <td>RUE DES MESANGES</td>\n",
              "      <td>0067</td>\n",
              "      <td>69830.0</td>\n",
              "      <td>69206</td>\n",
              "      <td>Saint-Georges-de-Reneins</td>\n",
              "      <td>69</td>\n",
              "      <td>NaN</td>\n",
              "      <td>NaN</td>\n",
              "      <td>692060000K0317</td>\n",
              "      <td>NaN</td>\n",
              "      <td>NaN</td>\n",
              "      <td>81.0</td>\n",
              "      <td>57.70</td>\n",
              "      <td>NaN</td>\n",
              "      <td>NaN</td>\n",
              "      <td>NaN</td>\n",
              "      <td>NaN</td>\n",
              "      <td>NaN</td>\n",
              "      <td>NaN</td>\n",
              "      <td>NaN</td>\n",
              "      <td>NaN</td>\n",
              "      <td>1</td>\n",
              "      <td>2.0</td>\n",
              "      <td>Appartement</td>\n",
              "      <td>52.0</td>\n",
              "      <td>2.0</td>\n",
              "      <td>NaN</td>\n",
              "      <td>NaN</td>\n",
              "      <td>NaN</td>\n",
              "      <td>NaN</td>\n",
              "      <td>NaN</td>\n",
              "      <td>4.708951</td>\n",
              "      <td>46.058315</td>\n",
              "    </tr>\n",
              "    <tr>\n",
              "      <th>32276</th>\n",
              "      <td>2021-320456</td>\n",
              "      <td>2021-04-29</td>\n",
              "      <td>1</td>\n",
              "      <td>Vente</td>\n",
              "      <td>127850.0</td>\n",
              "      <td>259.0</td>\n",
              "      <td>NaN</td>\n",
              "      <td>RUE CHARLES GERMAIN</td>\n",
              "      <td>0298</td>\n",
              "      <td>69400.0</td>\n",
              "      <td>69264</td>\n",
              "      <td>Villefranche-sur-Saône</td>\n",
              "      <td>69</td>\n",
              "      <td>NaN</td>\n",
              "      <td>NaN</td>\n",
              "      <td>69264000AK0028</td>\n",
              "      <td>NaN</td>\n",
              "      <td>NaN</td>\n",
              "      <td>20.0</td>\n",
              "      <td>39.90</td>\n",
              "      <td>72.0</td>\n",
              "      <td>NaN</td>\n",
              "      <td>NaN</td>\n",
              "      <td>NaN</td>\n",
              "      <td>NaN</td>\n",
              "      <td>NaN</td>\n",
              "      <td>NaN</td>\n",
              "      <td>NaN</td>\n",
              "      <td>2</td>\n",
              "      <td>3.0</td>\n",
              "      <td>Dépendance</td>\n",
              "      <td>NaN</td>\n",
              "      <td>0.0</td>\n",
              "      <td>NaN</td>\n",
              "      <td>NaN</td>\n",
              "      <td>NaN</td>\n",
              "      <td>NaN</td>\n",
              "      <td>NaN</td>\n",
              "      <td>4.715407</td>\n",
              "      <td>45.992562</td>\n",
              "    </tr>\n",
              "    <tr>\n",
              "      <th>32277</th>\n",
              "      <td>2021-320456</td>\n",
              "      <td>2021-04-29</td>\n",
              "      <td>1</td>\n",
              "      <td>Vente</td>\n",
              "      <td>127850.0</td>\n",
              "      <td>259.0</td>\n",
              "      <td>NaN</td>\n",
              "      <td>RUE CHARLES GERMAIN</td>\n",
              "      <td>0298</td>\n",
              "      <td>69400.0</td>\n",
              "      <td>69264</td>\n",
              "      <td>Villefranche-sur-Saône</td>\n",
              "      <td>69</td>\n",
              "      <td>NaN</td>\n",
              "      <td>NaN</td>\n",
              "      <td>69264000AK0028</td>\n",
              "      <td>NaN</td>\n",
              "      <td>NaN</td>\n",
              "      <td>20.0</td>\n",
              "      <td>39.90</td>\n",
              "      <td>72.0</td>\n",
              "      <td>NaN</td>\n",
              "      <td>NaN</td>\n",
              "      <td>NaN</td>\n",
              "      <td>NaN</td>\n",
              "      <td>NaN</td>\n",
              "      <td>NaN</td>\n",
              "      <td>NaN</td>\n",
              "      <td>2</td>\n",
              "      <td>2.0</td>\n",
              "      <td>Appartement</td>\n",
              "      <td>38.0</td>\n",
              "      <td>2.0</td>\n",
              "      <td>NaN</td>\n",
              "      <td>NaN</td>\n",
              "      <td>NaN</td>\n",
              "      <td>NaN</td>\n",
              "      <td>NaN</td>\n",
              "      <td>4.715407</td>\n",
              "      <td>45.992562</td>\n",
              "    </tr>\n",
              "    <tr>\n",
              "      <th>32278</th>\n",
              "      <td>2021-320456</td>\n",
              "      <td>2021-04-29</td>\n",
              "      <td>1</td>\n",
              "      <td>Vente</td>\n",
              "      <td>127850.0</td>\n",
              "      <td>259.0</td>\n",
              "      <td>NaN</td>\n",
              "      <td>RUE CHARLES GERMAIN</td>\n",
              "      <td>0298</td>\n",
              "      <td>69400.0</td>\n",
              "      <td>69264</td>\n",
              "      <td>Villefranche-sur-Saône</td>\n",
              "      <td>69</td>\n",
              "      <td>NaN</td>\n",
              "      <td>NaN</td>\n",
              "      <td>69264000AK0028</td>\n",
              "      <td>NaN</td>\n",
              "      <td>NaN</td>\n",
              "      <td>48.0</td>\n",
              "      <td>NaN</td>\n",
              "      <td>NaN</td>\n",
              "      <td>NaN</td>\n",
              "      <td>NaN</td>\n",
              "      <td>NaN</td>\n",
              "      <td>NaN</td>\n",
              "      <td>NaN</td>\n",
              "      <td>NaN</td>\n",
              "      <td>NaN</td>\n",
              "      <td>1</td>\n",
              "      <td>3.0</td>\n",
              "      <td>Dépendance</td>\n",
              "      <td>NaN</td>\n",
              "      <td>0.0</td>\n",
              "      <td>NaN</td>\n",
              "      <td>NaN</td>\n",
              "      <td>NaN</td>\n",
              "      <td>NaN</td>\n",
              "      <td>NaN</td>\n",
              "      <td>4.715407</td>\n",
              "      <td>45.992562</td>\n",
              "    </tr>\n",
              "  </tbody>\n",
              "</table>\n",
              "<p>32279 rows × 40 columns</p>\n",
              "</div>"
            ],
            "text/plain": [
              "       id_mutation date_mutation  ...  longitude   latitude\n",
              "0      2021-305622    2021-01-04  ...   4.802697  45.785960\n",
              "1      2021-305623    2021-01-05  ...   4.797315  45.754569\n",
              "2      2021-305623    2021-01-05  ...   4.797315  45.754569\n",
              "3      2021-305624    2021-01-04  ...   4.807578  45.778875\n",
              "4      2021-305624    2021-01-04  ...   4.807578  45.778875\n",
              "...            ...           ...  ...        ...        ...\n",
              "32274  2021-320454    2021-06-23  ...   4.293690  46.037205\n",
              "32275  2021-320455    2021-06-29  ...   4.708951  46.058315\n",
              "32276  2021-320456    2021-04-29  ...   4.715407  45.992562\n",
              "32277  2021-320456    2021-04-29  ...   4.715407  45.992562\n",
              "32278  2021-320456    2021-04-29  ...   4.715407  45.992562\n",
              "\n",
              "[32279 rows x 40 columns]"
            ]
          },
          "metadata": {},
          "execution_count": 86
        }
      ]
    },
    {
      "cell_type": "code",
      "source": [
        "#@title\n",
        "\n",
        "#Distribution du nombre de pièces par logement\n",
        "\n",
        "import matplotlib.pyplot as plt\n",
        "\n",
        "df = pd.DataFrame({'Nombre de piece par logement':[sum(logement['P17_RP_1P']), sum(logement['P17_RP_2P']), sum(logement['P17_RP_3P']),sum(logement['P17_RP_4P']),sum(logement['P17_RP_5PP']),]})\n",
        "\n",
        "plt.plot([1,2,3,4,5], df['Nombre de piece par logement'])\n",
        "\n",
        "plt.xticks([1,2,3,4,5],['1','2','3','4','5 ou plus'])\n",
        "\n",
        "plt.title('Distribution du nombre de pièces par logement',fontsize = 14)"
      ],
      "metadata": {
        "colab": {
          "base_uri": "https://localhost:8080/",
          "height": 301
        },
        "id": "IJE7lUPL2aHC",
        "outputId": "9141d500-0e92-4318-ebd9-32d3098ef5dc",
        "cellView": "form"
      },
      "execution_count": null,
      "outputs": [
        {
          "output_type": "execute_result",
          "data": {
            "text/plain": [
              "Text(0.5, 1.0, 'Distribution du nombre de pièces par logement')"
            ]
          },
          "metadata": {},
          "execution_count": 87
        },
        {
          "output_type": "display_data",
          "data": {
            "image/png": "[encoded data removed]",
            "text/plain": [
              "<Figure size 432x288 with 1 Axes>"
            ]
          },
          "metadata": {
            "needs_background": "light"
          }
        }
      ]
    },
    {
      "cell_type": "markdown",
      "metadata": {
        "id": "83nuDlwr7iNo"
      },
      "source": [
        "# Évolution de la population du Rhone depuis 1990"
      ]
    },
    {
      "cell_type": "code",
      "metadata": {
        "colab": {
          "base_uri": "https://localhost:8080/",
          "height": 280
        },
        "id": "3Cl7NCdz5L2s",
        "outputId": "d4b8fbe7-a2af-4a48-ab89-a4e3aecc19ac",
        "cellView": "form"
      },
      "source": [
        "#@title\n",
        "# On trace un graphique en courbe qui montre l'évolution de la population durant ces 10 dernières années\n",
        "names = population.columns[4:33]\n",
        "names2 = [2018,2017,2016,2015,2014,2013,2012,2011,2010,2009,2008,2007,2006]\n",
        "pop = np.sum(population.values[:,4:17], axis=0)\n",
        "\n",
        "plt.plot(names2, pop) \n",
        "plt.title('Evolution de la population durant ces 10 dernières années', fontsize=10)\n",
        "plt.show() "
      ],
      "execution_count": null,
      "outputs": [
        {
          "output_type": "display_data",
          "data": {
            "image/png": "[encoded data removed]",
            "text/plain": [
              "<Figure size 432x288 with 1 Axes>"
            ]
          },
          "metadata": {
            "needs_background": "light"
          }
        }
      ]
    },
    {
      "cell_type": "markdown",
      "metadata": {
        "id": "Q-XOKI4_zoBo"
      },
      "source": [
        "# Evolution des construction depuis 1919\n"
      ]
    },
    {
      "cell_type": "code",
      "metadata": {
        "id": "SO7IdZwfzwtY",
        "colab": {
          "base_uri": "https://localhost:8080/",
          "height": 282
        },
        "outputId": "2999ab16-2a3f-4ae9-cc1e-2ee4ab8f5221",
        "cellView": "form"
      },
      "source": [
        "#@title\n",
        "# On trace un graphique en courbe avec des points qui montre\n",
        "# l'évolution des constructions en cumulé depuis c'est 100 dernières années\n",
        "import matplotlib.pyplot as plt\n",
        "\n",
        "name = logement.columns[23:29]\n",
        "names2 = [1919,1945,1970,1990,2005,2014,2017]\n",
        "conctruction = np.sum(logement.values[:,23:29], axis=0)\n",
        "Y = [0] + np.cumsum(conctruction).tolist()\n",
        "plt.scatter(names2, Y)\n",
        "plt.plot(names2, Y) \n",
        "plt.title('Evolution des constructions depuis 1919', fontsize=14)\n",
        "plt.show() \n",
        "\n"
      ],
      "execution_count": null,
      "outputs": [
        {
          "output_type": "display_data",
          "data": {
            "image/png": "[encoded data removed]",
            "text/plain": [
              "<Figure size 432x288 with 1 Axes>"
            ]
          },
          "metadata": {
            "needs_background": "light"
          }
        }
      ]
    },
    {
      "cell_type": "markdown",
      "source": [
        "#Top : villes les plus / moins chères, avec le plus / le moins de maisons par rapport aux appartements"
      ],
      "metadata": {
        "id": "R75dIko0DTsS"
      }
    },
    {
      "cell_type": "code",
      "source": [
        "#@title\n",
        "#On veut obtenir un tableau avec les 5 villes les plus chères \n",
        "valeur[\"prix_m2\"] = valeur[\"valeur_fonciere\"] / valeur['surface_reelle_bati']\n",
        "\n",
        "top_villes = pd.DataFrame(valeur.groupby(\"nom_commune\")[\"prix_m2\"].mean())\n",
        "\n",
        "tophigh = top_villes.sort_values('prix_m2', ascending=False)\n",
        "tophigh.head(5).style.format({'prix_m2':'{:.2f} €'})"
      ],
      "metadata": {
        "colab": {
          "base_uri": "https://localhost:8080/",
          "height": 237
        },
        "id": "WK3Jo8rj-DXy",
        "outputId": "e4184f19-c98b-4760-94f4-720561517227",
        "cellView": "form"
      },
      "execution_count": null,
      "outputs": [
        {
          "output_type": "execute_result",
          "data": {
            "text/html": [
              "<style  type=\"text/css\" >\n",
              "</style><table id=\"T_dae8246a_5c5e_11ec_8c58_0242ac1c0002\" class=\"dataframe\"><thead>    <tr>        <th class=\"blank level0\" ></th>        <th class=\"col_heading level0 col0\" >prix_m2</th>    </tr>    <tr>        <th class=\"index_name level0\" >nom_commune</th>        <th class=\"blank\" ></th>    </tr></thead><tbody>\n",
              "                <tr>\n",
              "                        <th id=\"T_dae8246a_5c5e_11ec_8c58_0242ac1c0002level0_row0\" class=\"row_heading level0 row0\" >Dardilly</th>\n",
              "                        <td id=\"T_dae8246a_5c5e_11ec_8c58_0242ac1c0002row0_col0\" class=\"data row0 col0\" >68568.90 €</td>\n",
              "            </tr>\n",
              "            <tr>\n",
              "                        <th id=\"T_dae8246a_5c5e_11ec_8c58_0242ac1c0002level0_row1\" class=\"row_heading level0 row1\" >Charbonnières-les-Bains</th>\n",
              "                        <td id=\"T_dae8246a_5c5e_11ec_8c58_0242ac1c0002row1_col0\" class=\"data row1 col0\" >61116.85 €</td>\n",
              "            </tr>\n",
              "            <tr>\n",
              "                        <th id=\"T_dae8246a_5c5e_11ec_8c58_0242ac1c0002level0_row2\" class=\"row_heading level0 row2\" >Vénissieux</th>\n",
              "                        <td id=\"T_dae8246a_5c5e_11ec_8c58_0242ac1c0002row2_col0\" class=\"data row2 col0\" >51754.64 €</td>\n",
              "            </tr>\n",
              "            <tr>\n",
              "                        <th id=\"T_dae8246a_5c5e_11ec_8c58_0242ac1c0002level0_row3\" class=\"row_heading level0 row3\" >Champagne-au-Mont-d'Or</th>\n",
              "                        <td id=\"T_dae8246a_5c5e_11ec_8c58_0242ac1c0002row3_col0\" class=\"data row3 col0\" >34979.00 €</td>\n",
              "            </tr>\n",
              "            <tr>\n",
              "                        <th id=\"T_dae8246a_5c5e_11ec_8c58_0242ac1c0002level0_row4\" class=\"row_heading level0 row4\" >Corbas</th>\n",
              "                        <td id=\"T_dae8246a_5c5e_11ec_8c58_0242ac1c0002row4_col0\" class=\"data row4 col0\" >28986.10 €</td>\n",
              "            </tr>\n",
              "    </tbody></table>"
            ],
            "text/plain": [
              "<pandas.io.formats.style.Styler at 0x7f47c96c2f50>"
            ]
          },
          "metadata": {},
          "execution_count": 123
        }
      ]
    },
    {
      "cell_type": "code",
      "source": [
        "#@title\n",
        "#On veut obtenir un tableau avec les 5 villes les moins chères\n",
        "topless = top_villes.sort_values('prix_m2', ascending=True)\n",
        "topless.head(5).style.format({'prix_m2':'{:.2f} €'})"
      ],
      "metadata": {
        "colab": {
          "base_uri": "https://localhost:8080/",
          "height": 237
        },
        "id": "JEUzHy8O_F7a",
        "outputId": "5ae3cd99-c112-4ce1-daea-bf7dd072f389",
        "cellView": "form"
      },
      "execution_count": null,
      "outputs": [
        {
          "output_type": "execute_result",
          "data": {
            "text/html": [
              "<style  type=\"text/css\" >\n",
              "</style><table id=\"T_db268dc2_5c5e_11ec_8c58_0242ac1c0002\" class=\"dataframe\"><thead>    <tr>        <th class=\"blank level0\" ></th>        <th class=\"col_heading level0 col0\" >prix_m2</th>    </tr>    <tr>        <th class=\"index_name level0\" >nom_commune</th>        <th class=\"blank\" ></th>    </tr></thead><tbody>\n",
              "                <tr>\n",
              "                        <th id=\"T_db268dc2_5c5e_11ec_8c58_0242ac1c0002level0_row0\" class=\"row_heading level0 row0\" >Ranchal</th>\n",
              "                        <td id=\"T_db268dc2_5c5e_11ec_8c58_0242ac1c0002row0_col0\" class=\"data row0 col0\" >784.13 €</td>\n",
              "            </tr>\n",
              "            <tr>\n",
              "                        <th id=\"T_db268dc2_5c5e_11ec_8c58_0242ac1c0002level0_row1\" class=\"row_heading level0 row1\" >Meaux-la-Montagne</th>\n",
              "                        <td id=\"T_db268dc2_5c5e_11ec_8c58_0242ac1c0002row1_col0\" class=\"data row1 col0\" >784.31 €</td>\n",
              "            </tr>\n",
              "            <tr>\n",
              "                        <th id=\"T_db268dc2_5c5e_11ec_8c58_0242ac1c0002level0_row2\" class=\"row_heading level0 row2\" >Saint-Clément-sur-Valsonne</th>\n",
              "                        <td id=\"T_db268dc2_5c5e_11ec_8c58_0242ac1c0002row2_col0\" class=\"data row2 col0\" >878.83 €</td>\n",
              "            </tr>\n",
              "            <tr>\n",
              "                        <th id=\"T_db268dc2_5c5e_11ec_8c58_0242ac1c0002level0_row3\" class=\"row_heading level0 row3\" >Saint-Nizier-d'Azergues</th>\n",
              "                        <td id=\"T_db268dc2_5c5e_11ec_8c58_0242ac1c0002row3_col0\" class=\"data row3 col0\" >949.64 €</td>\n",
              "            </tr>\n",
              "            <tr>\n",
              "                        <th id=\"T_db268dc2_5c5e_11ec_8c58_0242ac1c0002level0_row4\" class=\"row_heading level0 row4\" >Saint-Vincent-de-Reins</th>\n",
              "                        <td id=\"T_db268dc2_5c5e_11ec_8c58_0242ac1c0002row4_col0\" class=\"data row4 col0\" >987.40 €</td>\n",
              "            </tr>\n",
              "    </tbody></table>"
            ],
            "text/plain": [
              "<pandas.io.formats.style.Styler at 0x7f47c9705e50>"
            ]
          },
          "metadata": {},
          "execution_count": 124
        }
      ]
    },
    {
      "cell_type": "code",
      "source": [
        "#@title\n",
        "#On cherche le top des villes avec le plus et moins d'appartements ou maisons\n",
        "valeur_avec_local = valeur.dropna(subset=[\"type_local\"])\n",
        "#Filtre, on garde pas dépendance & Local industriel\n",
        "valeur_avec_local = valeur_avec_local[(valeur_avec_local.type_local!='Local industriel. commercial ou assimilé')&(valeur_avec_local.type_local!='Dépendance')]\n",
        "valeur_prop = valeur_avec_local.groupby(\"nom_commune\").apply(lambda s: pd.Series({\n",
        "                                                          \"prop_appart\" : s[s.type_local=='Appartement'].shape[0] / s[\"type_local\"].shape[0],\n",
        "                                                          \"prop_maisons\" : s[s.type_local=='Maison'].shape[0] / s[\"type_local\"].shape[0],\n",
        "                                                        }))\n",
        "valeur_plus_appart = valeur_prop.sort_values('prop_appart', ascending=False)\n",
        "valeur_plus_maisons = valeur_prop.sort_values('prop_appart', ascending=True)\n",
        "\n",
        "valeur_plus_appart.head(5).style.format({'prop_appart' : '{:.2%}', 'prop_maisons' : '{:.2%}'})"
      ],
      "metadata": {
        "colab": {
          "base_uri": "https://localhost:8080/",
          "height": 237
        },
        "id": "cMYdMUDM_IOR",
        "outputId": "500e7cf6-302b-454e-8528-16e66c94d6b5",
        "cellView": "form"
      },
      "execution_count": null,
      "outputs": [
        {
          "output_type": "execute_result",
          "data": {
            "text/html": [
              "<style  type=\"text/css\" >\n",
              "</style><table id=\"T_db6c172a_5c5e_11ec_8c58_0242ac1c0002\" class=\"dataframe\"><thead>    <tr>        <th class=\"blank level0\" ></th>        <th class=\"col_heading level0 col0\" >prop_appart</th>        <th class=\"col_heading level0 col1\" >prop_maisons</th>    </tr>    <tr>        <th class=\"index_name level0\" >nom_commune</th>        <th class=\"blank\" ></th>        <th class=\"blank\" ></th>    </tr></thead><tbody>\n",
              "                <tr>\n",
              "                        <th id=\"T_db6c172a_5c5e_11ec_8c58_0242ac1c0002level0_row0\" class=\"row_heading level0 row0\" >Lyon 2e Arrondissement</th>\n",
              "                        <td id=\"T_db6c172a_5c5e_11ec_8c58_0242ac1c0002row0_col0\" class=\"data row0 col0\" >100.00%</td>\n",
              "                        <td id=\"T_db6c172a_5c5e_11ec_8c58_0242ac1c0002row0_col1\" class=\"data row0 col1\" >0.00%</td>\n",
              "            </tr>\n",
              "            <tr>\n",
              "                        <th id=\"T_db6c172a_5c5e_11ec_8c58_0242ac1c0002level0_row1\" class=\"row_heading level0 row1\" >Simandres</th>\n",
              "                        <td id=\"T_db6c172a_5c5e_11ec_8c58_0242ac1c0002row1_col0\" class=\"data row1 col0\" >100.00%</td>\n",
              "                        <td id=\"T_db6c172a_5c5e_11ec_8c58_0242ac1c0002row1_col1\" class=\"data row1 col1\" >0.00%</td>\n",
              "            </tr>\n",
              "            <tr>\n",
              "                        <th id=\"T_db6c172a_5c5e_11ec_8c58_0242ac1c0002level0_row2\" class=\"row_heading level0 row2\" >Lyon 1er Arrondissement</th>\n",
              "                        <td id=\"T_db6c172a_5c5e_11ec_8c58_0242ac1c0002row2_col0\" class=\"data row2 col0\" >100.00%</td>\n",
              "                        <td id=\"T_db6c172a_5c5e_11ec_8c58_0242ac1c0002row2_col1\" class=\"data row2 col1\" >0.00%</td>\n",
              "            </tr>\n",
              "            <tr>\n",
              "                        <th id=\"T_db6c172a_5c5e_11ec_8c58_0242ac1c0002level0_row3\" class=\"row_heading level0 row3\" >Saint-Clément-sur-Valsonne</th>\n",
              "                        <td id=\"T_db6c172a_5c5e_11ec_8c58_0242ac1c0002row3_col0\" class=\"data row3 col0\" >100.00%</td>\n",
              "                        <td id=\"T_db6c172a_5c5e_11ec_8c58_0242ac1c0002row3_col1\" class=\"data row3 col1\" >0.00%</td>\n",
              "            </tr>\n",
              "            <tr>\n",
              "                        <th id=\"T_db6c172a_5c5e_11ec_8c58_0242ac1c0002level0_row4\" class=\"row_heading level0 row4\" >Lyon 7e Arrondissement</th>\n",
              "                        <td id=\"T_db6c172a_5c5e_11ec_8c58_0242ac1c0002row4_col0\" class=\"data row4 col0\" >99.51%</td>\n",
              "                        <td id=\"T_db6c172a_5c5e_11ec_8c58_0242ac1c0002row4_col1\" class=\"data row4 col1\" >0.49%</td>\n",
              "            </tr>\n",
              "    </tbody></table>"
            ],
            "text/plain": [
              "<pandas.io.formats.style.Styler at 0x7f47c9617290>"
            ]
          },
          "metadata": {},
          "execution_count": 125
        }
      ]
    },
    {
      "cell_type": "code",
      "source": [
        "#@title\n",
        "valeur_plus_maisons.head(5).style.format({'prop_appart' : '{:.2%}', 'prop_maisons' : '{:.2%}'})"
      ],
      "metadata": {
        "colab": {
          "base_uri": "https://localhost:8080/",
          "height": 237
        },
        "id": "UyfCkQpOBo-g",
        "outputId": "91b97d0c-c6d0-4908-cb7e-43734a2f0827",
        "cellView": "form"
      },
      "execution_count": null,
      "outputs": [
        {
          "output_type": "execute_result",
          "data": {
            "text/html": [
              "<style  type=\"text/css\" >\n",
              "</style><table id=\"T_db6e937e_5c5e_11ec_8c58_0242ac1c0002\" class=\"dataframe\"><thead>    <tr>        <th class=\"blank level0\" ></th>        <th class=\"col_heading level0 col0\" >prop_appart</th>        <th class=\"col_heading level0 col1\" >prop_maisons</th>    </tr>    <tr>        <th class=\"index_name level0\" >nom_commune</th>        <th class=\"blank\" ></th>        <th class=\"blank\" ></th>    </tr></thead><tbody>\n",
              "                <tr>\n",
              "                        <th id=\"T_db6e937e_5c5e_11ec_8c58_0242ac1c0002level0_row0\" class=\"row_heading level0 row0\" >Affoux</th>\n",
              "                        <td id=\"T_db6e937e_5c5e_11ec_8c58_0242ac1c0002row0_col0\" class=\"data row0 col0\" >0.00%</td>\n",
              "                        <td id=\"T_db6e937e_5c5e_11ec_8c58_0242ac1c0002row0_col1\" class=\"data row0 col1\" >100.00%</td>\n",
              "            </tr>\n",
              "            <tr>\n",
              "                        <th id=\"T_db6e937e_5c5e_11ec_8c58_0242ac1c0002level0_row1\" class=\"row_heading level0 row1\" >Saint-Cyr-le-Chatoux</th>\n",
              "                        <td id=\"T_db6e937e_5c5e_11ec_8c58_0242ac1c0002row1_col0\" class=\"data row1 col0\" >0.00%</td>\n",
              "                        <td id=\"T_db6e937e_5c5e_11ec_8c58_0242ac1c0002row1_col1\" class=\"data row1 col1\" >100.00%</td>\n",
              "            </tr>\n",
              "            <tr>\n",
              "                        <th id=\"T_db6e937e_5c5e_11ec_8c58_0242ac1c0002level0_row2\" class=\"row_heading level0 row2\" >Saint-Cyr-sur-le-Rhône</th>\n",
              "                        <td id=\"T_db6e937e_5c5e_11ec_8c58_0242ac1c0002row2_col0\" class=\"data row2 col0\" >0.00%</td>\n",
              "                        <td id=\"T_db6e937e_5c5e_11ec_8c58_0242ac1c0002row2_col1\" class=\"data row2 col1\" >100.00%</td>\n",
              "            </tr>\n",
              "            <tr>\n",
              "                        <th id=\"T_db6e937e_5c5e_11ec_8c58_0242ac1c0002level0_row3\" class=\"row_heading level0 row3\" >Colombier-Saugnieu</th>\n",
              "                        <td id=\"T_db6e937e_5c5e_11ec_8c58_0242ac1c0002row3_col0\" class=\"data row3 col0\" >0.00%</td>\n",
              "                        <td id=\"T_db6e937e_5c5e_11ec_8c58_0242ac1c0002row3_col1\" class=\"data row3 col1\" >100.00%</td>\n",
              "            </tr>\n",
              "            <tr>\n",
              "                        <th id=\"T_db6e937e_5c5e_11ec_8c58_0242ac1c0002level0_row4\" class=\"row_heading level0 row4\" >Le Breuil</th>\n",
              "                        <td id=\"T_db6e937e_5c5e_11ec_8c58_0242ac1c0002row4_col0\" class=\"data row4 col0\" >0.00%</td>\n",
              "                        <td id=\"T_db6e937e_5c5e_11ec_8c58_0242ac1c0002row4_col1\" class=\"data row4 col1\" >100.00%</td>\n",
              "            </tr>\n",
              "    </tbody></table>"
            ],
            "text/plain": [
              "<pandas.io.formats.style.Styler at 0x7f47c9617850>"
            ]
          },
          "metadata": {},
          "execution_count": 126
        }
      ]
    },
    {
      "cell_type": "markdown",
      "source": [
        "#**Concentrons nous sur une ville en particulier**"
      ],
      "metadata": {
        "id": "phZoMNtLRjvb"
      }
    },
    {
      "cell_type": "code",
      "source": [
        "#@title\n",
        "#On cherche à obtenir une liste avec toutes les villes possibles\n",
        "ListeVille = []\n",
        "for i in range(0,len(population['LIBGEO'])):\n",
        "  ListeVille.append(population['LIBGEO'][i])\n",
        "print('[\"'+'\",\"'.join(ListeVille)+'\"]')"
      ],
      "metadata": {
        "colab": {
          "base_uri": "https://localhost:8080/"
        },
        "id": "kGvgqVbQUiQO",
        "outputId": "b3641b11-91af-482f-e4b2-c8aabe34207b",
        "cellView": "form",
        "collapsed": true
      },
      "execution_count": null,
      "outputs": [
        {
          "output_type": "stream",
          "name": "stdout",
          "text": [
            "[\"Affoux\",\"Aigueperse\",\"Albigny-sur-Saône\",\"Alix\",\"Ambérieux\",\"Amplepuis\",\"Ampuis\",\"Ancy\",\"Anse\",\"L'Arbresle\",\"Les Ardillats\",\"Arnas\",\"Aveize\",\"Azolette\",\"Bagnols\",\"Beaujeu\",\"Belleville-en-Beaujolais\",\"Belmont-d'Azergues\",\"Bessenay\",\"Bibost\",\"Blacé\",\"Val d'Oingt\",\"Le Breuil\",\"Brignais\",\"Brindas\",\"Bron\",\"Brullioles\",\"Brussieu\",\"Bully\",\"Cailloux-sur-Fontaines\",\"Caluire-et-Cuire\",\"Cenves\",\"Cercié\",\"Chambost-Allières\",\"Chambost-Longessaigne\",\"Chamelet\",\"Champagne-au-Mont-d'Or\",\"La Chapelle-sur-Coise\",\"Chaponost\",\"Charbonnières-les-Bains\",\"Charentay\",\"Charly\",\"Charnay\",\"Chasselay\",\"Châtillon\",\"Chaussan\",\"Chazay-d'Azergues\",\"Chénas\",\"Chénelette\",\"Les Chères\",\"Chessy\",\"Chevinay\",\"Chiroubles\",\"Civrieux-d'Azergues\",\"Claveisolles\",\"Cogny\",\"Coise\",\"Collonges-au-Mont-d'Or\",\"Condrieu\",\"Corcelles-en-Beaujolais\",\"Cours\",\"Courzieu\",\"Couzon-au-Mont-d'Or\",\"Craponne\",\"Cublize\",\"Curis-au-Mont-d'Or\",\"Dardilly\",\"Denicé\",\"Dième\",\"Dommartin\",\"Dracé\",\"Duerne\",\"Échalas\",\"Écully\",\"Émeringes\",\"Éveux\",\"Fleurie\",\"Fleurieu-sur-Saône\",\"Fleurieux-sur-l'Arbresle\",\"Fontaines-Saint-Martin\",\"Fontaines-sur-Saône\",\"Francheville\",\"Frontenas\",\"Givors\",\"Gleizé\",\"Grandris\",\"Grézieu-la-Varenne\",\"Grézieu-le-Marché\",\"Grigny\",\"Les Haies\",\"Les Halles\",\"Haute-Rivoire\",\"Irigny\",\"Joux\",\"Juliénas\",\"Jullié\",\"Lacenas\",\"Lachassagne\",\"Lamure-sur-Azergues\",\"Lancié\",\"Lantignié\",\"Larajasse\",\"Légny\",\"Lentilly\",\"Létra\",\"Limas\",\"Limonest\",\"Lissieu\",\"Loire-sur-Rhône\",\"Longes\",\"Longessaigne\",\"Lozanne\",\"Lucenay\",\"Lyon\",\"Marchampt\",\"Marcilly-d'Azergues\",\"Marcy\",\"Marcy-l'Étoile\",\"Meaux-la-Montagne\",\"Messimy\",\"Meys\",\"Millery\",\"Moiré\",\"Deux-Grosnes\",\"Montagny\",\"Montmelas-Saint-Sorlin\",\"Montromant\",\"Montrottier\",\"Morancé\",\"Mornant\",\"La Mulatière\",\"Neuville-sur-Saône\",\"Odenas\",\"Orliénas\",\"Oullins\",\"Le Perréon\",\"Pierre-Bénite\",\"Poleymieux-au-Mont-d'Or\",\"Pollionnay\",\"Pomeys\",\"Pommiers\",\"Vindry-sur-Turdine\",\"Porte des Pierres Dorées\",\"Poule-les-Écharmeaux\",\"Propières\",\"Quincié-en-Beaujolais\",\"Quincieux\",\"Ranchal\",\"Régnié-Durette\",\"Riverie\",\"Rivolet\",\"Rochetaillée-sur-Saône\",\"Ronno\",\"Rontalon\",\"Sain-Bel\",\"Salles-Arbuissonnas-en-Beaujolais\",\"Sarcey\",\"Les Sauvages\",\"Savigny\",\"Soucieu-en-Jarrest\",\"Sourcieux-les-Mines\",\"Souzy\",\"Beauvallon\",\"Saint-André-la-Côte\",\"Saint-Appolinaire\",\"Saint-Bonnet-des-Bruyères\",\"Saint-Bonnet-le-Troncy\",\"Sainte-Catherine\",\"Saint-Clément-de-Vers\",\"Saint-Clément-les-Places\",\"Saint-Clément-sur-Valsonne\",\"Sainte-Colombe\",\"Sainte-Consorce\",\"Saint-Cyr-au-Mont-d'Or\",\"Saint-Cyr-le-Chatoux\",\"Saint-Cyr-sur-le-Rhône\",\"Saint-Didier-au-Mont-d'Or\",\"Saint-Didier-sur-Beaujeu\",\"Saint-Étienne-des-Oullières\",\"Saint-Étienne-la-Varenne\",\"Saint-Fons\",\"Saint-Forgeux\",\"Sainte-Foy-l'Argentière\",\"Sainte-Foy-lès-Lyon\",\"Saint-Genis-l'Argentière\",\"Saint-Genis-Laval\",\"Saint-Genis-les-Ollières\",\"Saint-Georges-de-Reneins\",\"Saint-Germain-au-Mont-d'Or\",\"Saint-Germain-Nuelles\",\"Saint-Igny-de-Vers\",\"Saint-Jean-des-Vignes\",\"Saint-Jean-la-Bussière\",\"Saint-Julien\",\"Saint-Julien-sur-Bibost\",\"Saint-Just-d'Avray\",\"Saint-Lager\",\"Saint-Laurent-d'Agny\",\"Saint-Laurent-de-Chamousset\",\"Saint-Marcel-l'Éclairé\",\"Saint-Martin-en-Haut\",\"Chabanière\",\"Saint-Nizier-d'Azergues\",\"Sainte-Paule\",\"Saint-Pierre-la-Palud\",\"Saint-Romain-au-Mont-d'Or\",\"Saint-Romain-de-Popey\",\"Saint-Romain-en-Gal\",\"Saint-Romain-en-Gier\",\"Saint-Symphorien-sur-Coise\",\"Saint-Vérand\",\"Saint-Vincent-de-Reins\",\"Taluyers\",\"Taponas\",\"Tarare\",\"Tassin-la-Demi-Lune\",\"Ternand\",\"Theizé\",\"Thizy-les-Bourgs\",\"Thurins\",\"La Tour-de-Salvagny\",\"Trèves\",\"Tupin-et-Semons\",\"Valsonne\",\"Vaugneray\",\"Vaulx-en-Velin\",\"Vaux-en-Beaujolais\",\"Vauxrenard\",\"Vénissieux\",\"Vernaison\",\"Vernay\",\"Villechenève\",\"Villefranche-sur-Saône\",\"Ville-sur-Jarnioux\",\"Villeurbanne\",\"Villié-Morgon\",\"Vourles\",\"Yzeron\",\"Chaponnay\",\"Chassieu\",\"Communay\",\"Corbas\",\"Décines-Charpieu\",\"Feyzin\",\"Genas\",\"Genay\",\"Jonage\",\"Jons\",\"Marennes\",\"Meyzieu\",\"Mions\",\"Montanay\",\"Pusignan\",\"Rillieux-la-Pape\",\"Saint-Bonnet-de-Mure\",\"Saint-Laurent-de-Mure\",\"Saint-Pierre-de-Chandieu\",\"Saint-Priest\",\"Saint-Symphorien-d'Ozon\",\"Sathonay-Camp\",\"Sathonay-Village\",\"Sérézin-du-Rhône\",\"Simandres\",\"Solaize\",\"Ternay\",\"Toussieu\",\"Colombier-Saugnieu\"]\n"
          ]
        }
      ]
    },
    {
      "cell_type": "code",
      "source": [
        "#On crée une liste déroulante afin de choisir une ville et l'analyser\n",
        "#@title Choisir une ville\n",
        "\n",
        "Ville = \"Sainte-Catherine\" #@param [\"Affoux\",\"Aigueperse\",\"Albigny-sur-Saône\",\"Alix\",\"Ambérieux\",\"Amplepuis\",\"Ampuis\",\"Ancy\",\"Anse\",\"L'Arbresle\",\"Les Ardillats\",\"Arnas\",\"Aveize\",\"Azolette\",\"Bagnols\",\"Beaujeu\",\"Belleville-en-Beaujolais\",\"Belmont-d'Azergues\",\"Bessenay\",\"Bibost\",\"Blacé\",\"Val d'Oingt\",\"Le Breuil\",\"Brignais\",\"Brindas\",\"Bron\",\"Brullioles\",\"Brussieu\",\"Bully\",\"Cailloux-sur-Fontaines\",\"Caluire-et-Cuire\",\"Cenves\",\"Cercié\",\"Chambost-Allières\",\"Chambost-Longessaigne\",\"Chamelet\",\"Champagne-au-Mont-d'Or\",\"La Chapelle-sur-Coise\",\"Chaponost\",\"Charbonnières-les-Bains\",\"Charentay\",\"Charly\",\"Charnay\",\"Chasselay\",\"Châtillon\",\"Chaussan\",\"Chazay-d'Azergues\",\"Chénas\",\"Chénelette\",\"Les Chères\",\"Chessy\",\"Chevinay\",\"Chiroubles\",\"Civrieux-d'Azergues\",\"Claveisolles\",\"Cogny\",\"Coise\",\"Collonges-au-Mont-d'Or\",\"Condrieu\",\"Corcelles-en-Beaujolais\",\"Cours\",\"Courzieu\",\"Couzon-au-Mont-d'Or\",\"Craponne\",\"Cublize\",\"Curis-au-Mont-d'Or\",\"Dardilly\",\"Denicé\",\"Dième\",\"Dommartin\",\"Dracé\",\"Duerne\",\"Échalas\",\"Écully\",\"Émeringes\",\"Éveux\",\"Fleurie\",\"Fleurieu-sur-Saône\",\"Fleurieux-sur-l'Arbresle\",\"Fontaines-Saint-Martin\",\"Fontaines-sur-Saône\",\"Francheville\",\"Frontenas\",\"Givors\",\"Gleizé\",\"Grandris\",\"Grézieu-la-Varenne\",\"Grézieu-le-Marché\",\"Grigny\",\"Les Haies\",\"Les Halles\",\"Haute-Rivoire\",\"Irigny\",\"Joux\",\"Juliénas\",\"Jullié\",\"Lacenas\",\"Lachassagne\",\"Lamure-sur-Azergues\",\"Lancié\",\"Lantignié\",\"Larajasse\",\"Légny\",\"Lentilly\",\"Létra\",\"Limas\",\"Limonest\",\"Lissieu\",\"Loire-sur-Rhône\",\"Longes\",\"Longessaigne\",\"Lozanne\",\"Lucenay\",\"Lyon\",\"Marchampt\",\"Marcilly-d'Azergues\",\"Marcy\",\"Marcy-l'Étoile\",\"Meaux-la-Montagne\",\"Messimy\",\"Meys\",\"Millery\",\"Moiré\",\"Deux-Grosnes\",\"Montagny\",\"Montmelas-Saint-Sorlin\",\"Montromant\",\"Montrottier\",\"Morancé\",\"Mornant\",\"La Mulatière\",\"Neuville-sur-Saône\",\"Odenas\",\"Orliénas\",\"Oullins\",\"Le Perréon\",\"Pierre-Bénite\",\"Poleymieux-au-Mont-d'Or\",\"Pollionnay\",\"Pomeys\",\"Pommiers\",\"Vindry-sur-Turdine\",\"Porte des Pierres Dorées\",\"Poule-les-Écharmeaux\",\"Propières\",\"Quincié-en-Beaujolais\",\"Quincieux\",\"Ranchal\",\"Régnié-Durette\",\"Riverie\",\"Rivolet\",\"Rochetaillée-sur-Saône\",\"Ronno\",\"Rontalon\",\"Sain-Bel\",\"Salles-Arbuissonnas-en-Beaujolais\",\"Sarcey\",\"Les Sauvages\",\"Savigny\",\"Soucieu-en-Jarrest\",\"Sourcieux-les-Mines\",\"Souzy\",\"Beauvallon\",\"Saint-André-la-Côte\",\"Saint-Appolinaire\",\"Saint-Bonnet-des-Bruyères\",\"Saint-Bonnet-le-Troncy\",\"Sainte-Catherine\",\"Saint-Clément-de-Vers\",\"Saint-Clément-les-Places\",\"Saint-Clément-sur-Valsonne\",\"Sainte-Colombe\",\"Sainte-Consorce\",\"Saint-Cyr-au-Mont-d'Or\",\"Saint-Cyr-le-Chatoux\",\"Saint-Cyr-sur-le-Rhône\",\"Saint-Didier-au-Mont-d'Or\",\"Saint-Didier-sur-Beaujeu\",\"Saint-Étienne-des-Oullières\",\"Saint-Étienne-la-Varenne\",\"Saint-Fons\",\"Saint-Forgeux\",\"Sainte-Foy-l'Argentière\",\"Sainte-Foy-lès-Lyon\",\"Saint-Genis-l'Argentière\",\"Saint-Genis-Laval\",\"Saint-Genis-les-Ollières\",\"Saint-Georges-de-Reneins\",\"Saint-Germain-au-Mont-d'Or\",\"Saint-Germain-Nuelles\",\"Saint-Igny-de-Vers\",\"Saint-Jean-des-Vignes\",\"Saint-Jean-la-Bussière\",\"Saint-Julien\",\"Saint-Julien-sur-Bibost\",\"Saint-Just-d'Avray\",\"Saint-Lager\",\"Saint-Laurent-d'Agny\",\"Saint-Laurent-de-Chamousset\",\"Saint-Marcel-l'Éclairé\",\"Saint-Martin-en-Haut\",\"Chabanière\",\"Saint-Nizier-d'Azergues\",\"Sainte-Paule\",\"Saint-Pierre-la-Palud\",\"Saint-Romain-au-Mont-d'Or\",\"Saint-Romain-de-Popey\",\"Saint-Romain-en-Gal\",\"Saint-Romain-en-Gier\",\"Saint-Symphorien-sur-Coise\",\"Saint-Vérand\",\"Saint-Vincent-de-Reins\",\"Taluyers\",\"Taponas\",\"Tarare\",\"Tassin-la-Demi-Lune\",\"Ternand\",\"Theizé\",\"Thizy-les-Bourgs\",\"Thurins\",\"La Tour-de-Salvagny\",\"Trèves\",\"Tupin-et-Semons\",\"Valsonne\",\"Vaugneray\",\"Vaulx-en-Velin\",\"Vaux-en-Beaujolais\",\"Vauxrenard\",\"Vénissieux\",\"Vernaison\",\"Vernay\",\"Villechenève\",\"Villefranche-sur-Saône\",\"Ville-sur-Jarnioux\",\"Villeurbanne\",\"Villié-Morgon\",\"Vourles\",\"Yzeron\",\"Chaponnay\",\"Chassieu\",\"Communay\",\"Corbas\",\"Décines-Charpieu\",\"Feyzin\",\"Genas\",\"Genay\",\"Jonage\",\"Jons\",\"Marennes\",\"Meyzieu\",\"Mions\",\"Montanay\",\"Pusignan\",\"Rillieux-la-Pape\",\"Saint-Bonnet-de-Mure\",\"Saint-Laurent-de-Mure\",\"Saint-Pierre-de-Chandieu\",\"Saint-Priest\",\"Saint-Symphorien-d'Ozon\",\"Sathonay-Camp\",\"Sathonay-Village\",\"Sérézin-du-Rhône\",\"Simandres\",\"Solaize\",\"Ternay\",\"Toussieu\",\"Colombier-Saugnieu\"] {allow-input: true}\n",
        "Ville\n",
        "#Après avoir choisi sa ville, re éxécuter la code ! "
      ],
      "metadata": {
        "colab": {
          "base_uri": "https://localhost:8080/",
          "height": 35
        },
        "id": "Z5qMi0hQRwQk",
        "outputId": "dd0e2144-ca3b-4553-fc47-0f2416494e68",
        "cellView": "form"
      },
      "execution_count": null,
      "outputs": [
        {
          "output_type": "execute_result",
          "data": {
            "application/vnd.google.colaboratory.intrinsic+json": {
              "type": "string"
            },
            "text/plain": [
              "'Sainte-Catherine'"
            ]
          },
          "metadata": {},
          "execution_count": 127
        }
      ]
    },
    {
      "cell_type": "code",
      "source": [
        "#@title\n",
        "#on retrouve le prix moyen du mètre carré des appartements de la ville choisie \n",
        "valeur_ville = valeur[valeur.nom_commune==Ville]\n",
        "valeur_ville = valeur[valeur.nom_commune==Ville]. fillna (0)\n",
        "\n",
        "vprixmoyen_appart = valeur_ville[valeur_ville.type_local==\"Appartement\"]\n",
        "vprixm2moyenappart = vprixmoyen_appart[\"valeur_fonciere\"].mean()/vprixmoyen_appart[\"surface_reelle_bati\"].mean()\n",
        "if vprixmoyen_appart.shape[0] != 0:\n",
        "  print(\"Prix moyen du m² des appartements : '{:.2f} €'\".format(vprixm2moyenappart))"
      ],
      "metadata": {
        "id": "Seg_wZNZeyVU",
        "colab": {
          "base_uri": "https://localhost:8080/"
        },
        "outputId": "5010b4d5-e5da-40ab-ef6f-18f6278886ad",
        "cellView": "form"
      },
      "execution_count": null,
      "outputs": [
        {
          "output_type": "stream",
          "name": "stdout",
          "text": [
            "Prix moyen du m² des appartements : '2314.05 €'\n"
          ]
        }
      ]
    },
    {
      "cell_type": "code",
      "source": [
        "#@title\n",
        "#on retrouve le prix moyen du mètre carré des maisons de la ville choisie \n",
        "valeur_ville = valeur[valeur.nom_commune==Ville]\n",
        "valeur_ville = valeur_ville.dropna(subset=['surface_reelle_bati', 'valeur_fonciere'])\n",
        "\n",
        "vprixmoyen_maison = valeur_ville[valeur_ville.type_local==\"Maison\"]\n",
        "vprixm2moyenmaison = vprixmoyen_maison[\"valeur_fonciere\"].mean()/vprixmoyen_maison[\"surface_reelle_bati\"].mean()\n",
        "if prixmoyen_maison.shape[0] != 0:\n",
        "  print(\"Prix moyen du m² des maisons de la ville choisie : '{:.2f} €'\".format(vprixm2moyenmaison))"
      ],
      "metadata": {
        "id": "GwTJ90EXgBS2",
        "colab": {
          "base_uri": "https://localhost:8080/"
        },
        "outputId": "62129758-cc66-47d8-9cfd-17d80f5d5f1f",
        "cellView": "form"
      },
      "execution_count": null,
      "outputs": [
        {
          "output_type": "stream",
          "name": "stdout",
          "text": [
            "Prix moyen du m² des maisons de la ville choisie : '1718.08 €'\n"
          ]
        }
      ]
    },
    {
      "cell_type": "code",
      "source": [
        "#@title\n",
        "#on retrouve le prix médian du mètre carré des appartements de la ville choisie \n",
        "valeur_ville = valeur[valeur.nom_commune==Ville]\n",
        "valeur_ville = valeur_ville.dropna(subset=['surface_reelle_bati', 'valeur_fonciere'])\n",
        "\n",
        "vprixmedian_appart = valeur_ville[valeur_ville.type_local==\"Appartement\"]\n",
        "vprixm2medianappart = vprixmedian_appart[\"valeur_fonciere\"].median()/vprixmedian_appart[\"surface_reelle_bati\"].median()\n",
        "if vprixmedian_appart.shape[0] != 0:\n",
        "  print(\"Prix median du m² des appartements :'{:.2f} €'\".format(vprixm2medianappart))"
      ],
      "metadata": {
        "colab": {
          "base_uri": "https://localhost:8080/"
        },
        "id": "5M75NyYRZszB",
        "outputId": "a10eb9d6-9393-4dfe-e931-1b014b4d2689",
        "cellView": "form"
      },
      "execution_count": null,
      "outputs": [
        {
          "output_type": "stream",
          "name": "stdout",
          "text": [
            "Prix median du m² des appartements :'2314.05 €'\n"
          ]
        }
      ]
    },
    {
      "cell_type": "code",
      "source": [
        "#@title\n",
        "#on retrouve le prix médian du mètre carré des maisons de la ville choisie \n",
        "valeur_ville = valeur[valeur.nom_commune==Ville]\n",
        "valeur_ville = valeur_ville.dropna(subset=['surface_reelle_bati', 'valeur_fonciere'])\n",
        "\n",
        "vprixmedian_maison = valeur_ville[valeur_ville.type_local==\"Maison\"]\n",
        "vprixm2medianmaison = vprixmedian_maison[\"valeur_fonciere\"].median()/vprixmedian_maison[\"surface_reelle_bati\"].median()\n",
        "if vprixmedian_maison.shape[0] != 0:\n",
        "  print(\"Prix médian du m² des maisons de la ville choisie : '{:.2f} €'\".format(vprixm2medianmaison))"
      ],
      "metadata": {
        "colab": {
          "base_uri": "https://localhost:8080/"
        },
        "id": "fKjW9HFSaQhW",
        "outputId": "ab649784-8be8-4600-d738-e7c26c9ba6fc",
        "cellView": "form"
      },
      "execution_count": null,
      "outputs": [
        {
          "output_type": "stream",
          "name": "stdout",
          "text": [
            "Prix médian du m² des maisons de la ville choisie : '1700.00 €'\n"
          ]
        }
      ]
    },
    {
      "cell_type": "code",
      "source": [
        "#@title\n",
        "#Mise en forme des données moyen et médian du prix au m² des appartements et maisons de la ville choisie\n",
        "data = {'Appartements':{'Prix moyen du m²':vprixm2moyenappart,'Prix médian du m²':vprixm2medianappart},'Maisons':{'Prix moyen du m²':vprixm2moyenmaison,'Prix médian du m²':vprixm2medianmaison}}\n",
        "df = pd.DataFrame(data=data)\n",
        "df.style.format({'Appartements': '{:.2f} €','Maisons': '{:.2f} €'})"
      ],
      "metadata": {
        "colab": {
          "base_uri": "https://localhost:8080/",
          "height": 112
        },
        "id": "U8e8ZZCxaz9x",
        "outputId": "4253513d-575a-469c-a81c-9135f139e579",
        "cellView": "form"
      },
      "execution_count": null,
      "outputs": [
        {
          "output_type": "execute_result",
          "data": {
            "text/html": [
              "<style  type=\"text/css\" >\n",
              "</style><table id=\"T_21979c06_5c5f_11ec_8c58_0242ac1c0002\" class=\"dataframe\"><thead>    <tr>        <th class=\"blank level0\" ></th>        <th class=\"col_heading level0 col0\" >Appartements</th>        <th class=\"col_heading level0 col1\" >Maisons</th>    </tr></thead><tbody>\n",
              "                <tr>\n",
              "                        <th id=\"T_21979c06_5c5f_11ec_8c58_0242ac1c0002level0_row0\" class=\"row_heading level0 row0\" >Prix moyen du m²</th>\n",
              "                        <td id=\"T_21979c06_5c5f_11ec_8c58_0242ac1c0002row0_col0\" class=\"data row0 col0\" >2314.05 €</td>\n",
              "                        <td id=\"T_21979c06_5c5f_11ec_8c58_0242ac1c0002row0_col1\" class=\"data row0 col1\" >1718.08 €</td>\n",
              "            </tr>\n",
              "            <tr>\n",
              "                        <th id=\"T_21979c06_5c5f_11ec_8c58_0242ac1c0002level0_row1\" class=\"row_heading level0 row1\" >Prix médian du m²</th>\n",
              "                        <td id=\"T_21979c06_5c5f_11ec_8c58_0242ac1c0002row1_col0\" class=\"data row1 col0\" >2314.05 €</td>\n",
              "                        <td id=\"T_21979c06_5c5f_11ec_8c58_0242ac1c0002row1_col1\" class=\"data row1 col1\" >1700.00 €</td>\n",
              "            </tr>\n",
              "    </tbody></table>"
            ],
            "text/plain": [
              "<pandas.io.formats.style.Styler at 0x7f47c968f910>"
            ]
          },
          "metadata": {},
          "execution_count": 132
        }
      ]
    },
    {
      "cell_type": "code",
      "source": [
        "logement"
      ],
      "metadata": {
        "colab": {
          "base_uri": "https://localhost:8080/",
          "height": 478
        },
        "id": "r_cCXnMgfOOd",
        "outputId": "9f9c47e2-4219-4633-a383-d7be0048fb21",
        "collapsed": true
      },
      "execution_count": null,
      "outputs": [
        {
          "output_type": "execute_result",
          "data": {
            "text/html": [
              "<div>\n",
              "<style scoped>\n",
              "    .dataframe tbody tr th:only-of-type {\n",
              "        vertical-align: middle;\n",
              "    }\n",
              "\n",
              "    .dataframe tbody tr th {\n",
              "        vertical-align: top;\n",
              "    }\n",
              "\n",
              "    .dataframe thead th {\n",
              "        text-align: right;\n",
              "    }\n",
              "</style>\n",
              "<table border=\"1\" class=\"dataframe\">\n",
              "  <thead>\n",
              "    <tr style=\"text-align: right;\">\n",
              "      <th></th>\n",
              "      <th>CODGEO</th>\n",
              "      <th>REG</th>\n",
              "      <th>DEP</th>\n",
              "      <th>LIBGEO</th>\n",
              "      <th>P17_LOG</th>\n",
              "      <th>P17_RP</th>\n",
              "      <th>P17_RSECOCC</th>\n",
              "      <th>P17_LOGVAC</th>\n",
              "      <th>P17_MAISON</th>\n",
              "      <th>P17_APPART</th>\n",
              "      <th>P17_RP_1P</th>\n",
              "      <th>P17_RP_2P</th>\n",
              "      <th>P17_RP_3P</th>\n",
              "      <th>P17_RP_4P</th>\n",
              "      <th>P17_RP_5PP</th>\n",
              "      <th>P17_NBPI_RP</th>\n",
              "      <th>P17_RPMAISON</th>\n",
              "      <th>P17_NBPI_RPMAISON</th>\n",
              "      <th>P17_RPAPPART</th>\n",
              "      <th>P17_NBPI_RPAPPART</th>\n",
              "      <th>C17_RP_HSTU1P</th>\n",
              "      <th>C17_RP_HSTU1P_SUROCC</th>\n",
              "      <th>P17_RP_ACHTOT</th>\n",
              "      <th>P17_RP_ACH19</th>\n",
              "      <th>P17_RP_ACH45</th>\n",
              "      <th>P17_RP_ACH70</th>\n",
              "      <th>P17_RP_ACH90</th>\n",
              "      <th>P17_RP_ACH05</th>\n",
              "      <th>P17_RP_ACH14</th>\n",
              "      <th>P17_RPMAISON_ACH19</th>\n",
              "      <th>P17_RPMAISON_ACH45</th>\n",
              "      <th>P17_RPMAISON_ACH70</th>\n",
              "      <th>P17_RPMAISON_ACH90</th>\n",
              "      <th>P17_RPMAISON_ACH05</th>\n",
              "      <th>P17_RPMAISON_ACH14</th>\n",
              "      <th>P17_RPAPPART_ACH19</th>\n",
              "      <th>P17_RPAPPART_ACH45</th>\n",
              "      <th>P17_RPAPPART_ACH70</th>\n",
              "      <th>P17_RPAPPART_ACH90</th>\n",
              "      <th>P17_RPAPPART_ACH05</th>\n",
              "      <th>...</th>\n",
              "      <th>P17_PMEN_ANEM0002</th>\n",
              "      <th>P17_PMEN_ANEM0204</th>\n",
              "      <th>P17_PMEN_ANEM0509</th>\n",
              "      <th>P17_PMEN_ANEM10P</th>\n",
              "      <th>P17_NBPI_RP_ANEM0002</th>\n",
              "      <th>P17_NBPI_RP_ANEM0204</th>\n",
              "      <th>P17_NBPI_RP_ANEM0509</th>\n",
              "      <th>P17_NBPI_RP_ANEM10P</th>\n",
              "      <th>P17_RP_PROP</th>\n",
              "      <th>P17_RP_LOC</th>\n",
              "      <th>P17_RP_LOCHLMV</th>\n",
              "      <th>P17_RP_GRAT</th>\n",
              "      <th>P17_NPER_RP</th>\n",
              "      <th>P17_NPER_RP_PROP</th>\n",
              "      <th>P17_NPER_RP_LOC</th>\n",
              "      <th>P17_NPER_RP_LOCHLMV</th>\n",
              "      <th>P17_NPER_RP_GRAT</th>\n",
              "      <th>P17_ANEM_RP</th>\n",
              "      <th>P17_ANEM_RP_PROP</th>\n",
              "      <th>P17_ANEM_RP_LOC</th>\n",
              "      <th>P17_ANEM_RP_LOCHLMV</th>\n",
              "      <th>P17_ANEM_RP_GRAT</th>\n",
              "      <th>P17_RP_SDB</th>\n",
              "      <th>P17_RP_CCCOLL</th>\n",
              "      <th>P17_RP_CCIND</th>\n",
              "      <th>P17_RP_CINDELEC</th>\n",
              "      <th>P17_RP_ELEC</th>\n",
              "      <th>P17_RP_EAUCH</th>\n",
              "      <th>P17_RP_BDWC</th>\n",
              "      <th>P17_RP_CHOS</th>\n",
              "      <th>P17_RP_CLIM</th>\n",
              "      <th>P17_RP_TTEGOU</th>\n",
              "      <th>P17_RP_GARL</th>\n",
              "      <th>P17_RP_VOIT1P</th>\n",
              "      <th>P17_RP_VOIT1</th>\n",
              "      <th>P17_RP_VOIT2P</th>\n",
              "      <th>P17_RP_HABFOR</th>\n",
              "      <th>P17_RP_CASE</th>\n",
              "      <th>P17_RP_MIBOIS</th>\n",
              "      <th>P17_RP_MIDUR</th>\n",
              "    </tr>\n",
              "  </thead>\n",
              "  <tbody>\n",
              "    <tr>\n",
              "      <th>0</th>\n",
              "      <td>69001</td>\n",
              "      <td>84</td>\n",
              "      <td>69</td>\n",
              "      <td>Affoux</td>\n",
              "      <td>166.682251</td>\n",
              "      <td>139.226913</td>\n",
              "      <td>14.236101</td>\n",
              "      <td>13.219237</td>\n",
              "      <td>165.708636</td>\n",
              "      <td>0.973615</td>\n",
              "      <td>0.000000</td>\n",
              "      <td>1.947230</td>\n",
              "      <td>14.604222</td>\n",
              "      <td>31.155673</td>\n",
              "      <td>91.519789</td>\n",
              "      <td>692.240106</td>\n",
              "      <td>138.253298</td>\n",
              "      <td>688.345646</td>\n",
              "      <td>0.973615</td>\n",
              "      <td>3.894459</td>\n",
              "      <td>131.437995</td>\n",
              "      <td>0.000000</td>\n",
              "      <td>129.490765</td>\n",
              "      <td>49.654354</td>\n",
              "      <td>6.815303</td>\n",
              "      <td>4.868074</td>\n",
              "      <td>19.472296</td>\n",
              "      <td>32.129288</td>\n",
              "      <td>16.551451</td>\n",
              "      <td>49.654354</td>\n",
              "      <td>6.815303</td>\n",
              "      <td>4.868074</td>\n",
              "      <td>18.498681</td>\n",
              "      <td>32.129288</td>\n",
              "      <td>16.551451</td>\n",
              "      <td>0.000000</td>\n",
              "      <td>0.000000</td>\n",
              "      <td>0.000000</td>\n",
              "      <td>0.973615</td>\n",
              "      <td>0.000000</td>\n",
              "      <td>...</td>\n",
              "      <td>31.155673</td>\n",
              "      <td>58.416887</td>\n",
              "      <td>52.575198</td>\n",
              "      <td>226.852243</td>\n",
              "      <td>55.496042</td>\n",
              "      <td>103.203166</td>\n",
              "      <td>72.047493</td>\n",
              "      <td>461.493404</td>\n",
              "      <td>120.728232</td>\n",
              "      <td>17.525066</td>\n",
              "      <td>2.920844</td>\n",
              "      <td>0.973615</td>\n",
              "      <td>369.0</td>\n",
              "      <td>326.160950</td>\n",
              "      <td>41.865435</td>\n",
              "      <td>9.736148</td>\n",
              "      <td>0.973615</td>\n",
              "      <td>2639.469657</td>\n",
              "      <td>2428.195251</td>\n",
              "      <td>184.013193</td>\n",
              "      <td>26.287599</td>\n",
              "      <td>27.261214</td>\n",
              "      <td>137.279683</td>\n",
              "      <td>2.920844</td>\n",
              "      <td>66.205805</td>\n",
              "      <td>21.419525</td>\n",
              "      <td>NaN</td>\n",
              "      <td>NaN</td>\n",
              "      <td>NaN</td>\n",
              "      <td>NaN</td>\n",
              "      <td>NaN</td>\n",
              "      <td>NaN</td>\n",
              "      <td>125.596306</td>\n",
              "      <td>136.306069</td>\n",
              "      <td>42.839050</td>\n",
              "      <td>93.467018</td>\n",
              "      <td>NaN</td>\n",
              "      <td>NaN</td>\n",
              "      <td>NaN</td>\n",
              "      <td>NaN</td>\n",
              "    </tr>\n",
              "    <tr>\n",
              "      <th>1</th>\n",
              "      <td>69002</td>\n",
              "      <td>84</td>\n",
              "      <td>69</td>\n",
              "      <td>Aigueperse</td>\n",
              "      <td>195.424350</td>\n",
              "      <td>118.959350</td>\n",
              "      <td>51.996200</td>\n",
              "      <td>24.468800</td>\n",
              "      <td>178.263332</td>\n",
              "      <td>17.161018</td>\n",
              "      <td>0.000000</td>\n",
              "      <td>12.097561</td>\n",
              "      <td>18.146341</td>\n",
              "      <td>42.341463</td>\n",
              "      <td>46.373984</td>\n",
              "      <td>512.130081</td>\n",
              "      <td>103.837398</td>\n",
              "      <td>469.788618</td>\n",
              "      <td>15.121951</td>\n",
              "      <td>42.341463</td>\n",
              "      <td>120.975610</td>\n",
              "      <td>0.000000</td>\n",
              "      <td>116.943089</td>\n",
              "      <td>72.585366</td>\n",
              "      <td>5.040650</td>\n",
              "      <td>6.048780</td>\n",
              "      <td>7.056911</td>\n",
              "      <td>19.154472</td>\n",
              "      <td>7.056911</td>\n",
              "      <td>67.544715</td>\n",
              "      <td>4.032520</td>\n",
              "      <td>5.040650</td>\n",
              "      <td>7.056911</td>\n",
              "      <td>12.097561</td>\n",
              "      <td>6.048780</td>\n",
              "      <td>5.040650</td>\n",
              "      <td>1.008130</td>\n",
              "      <td>1.008130</td>\n",
              "      <td>0.000000</td>\n",
              "      <td>7.056911</td>\n",
              "      <td>...</td>\n",
              "      <td>21.170732</td>\n",
              "      <td>19.154472</td>\n",
              "      <td>30.243902</td>\n",
              "      <td>177.430894</td>\n",
              "      <td>29.235772</td>\n",
              "      <td>47.382114</td>\n",
              "      <td>62.504065</td>\n",
              "      <td>373.008130</td>\n",
              "      <td>96.780488</td>\n",
              "      <td>20.162602</td>\n",
              "      <td>0.000000</td>\n",
              "      <td>2.016260</td>\n",
              "      <td>248.0</td>\n",
              "      <td>205.658537</td>\n",
              "      <td>35.284553</td>\n",
              "      <td>0.000000</td>\n",
              "      <td>7.056911</td>\n",
              "      <td>3115.121951</td>\n",
              "      <td>2890.308943</td>\n",
              "      <td>219.772358</td>\n",
              "      <td>0.000000</td>\n",
              "      <td>5.040650</td>\n",
              "      <td>115.934959</td>\n",
              "      <td>1.008130</td>\n",
              "      <td>62.504065</td>\n",
              "      <td>20.162602</td>\n",
              "      <td>NaN</td>\n",
              "      <td>NaN</td>\n",
              "      <td>NaN</td>\n",
              "      <td>NaN</td>\n",
              "      <td>NaN</td>\n",
              "      <td>NaN</td>\n",
              "      <td>63.512195</td>\n",
              "      <td>108.878049</td>\n",
              "      <td>63.512195</td>\n",
              "      <td>45.365854</td>\n",
              "      <td>NaN</td>\n",
              "      <td>NaN</td>\n",
              "      <td>NaN</td>\n",
              "      <td>NaN</td>\n",
              "    </tr>\n",
              "    <tr>\n",
              "      <th>2</th>\n",
              "      <td>69003</td>\n",
              "      <td>84</td>\n",
              "      <td>69</td>\n",
              "      <td>Albigny-sur-Saône</td>\n",
              "      <td>1159.943363</td>\n",
              "      <td>1008.000000</td>\n",
              "      <td>19.638938</td>\n",
              "      <td>132.304425</td>\n",
              "      <td>590.880521</td>\n",
              "      <td>561.709892</td>\n",
              "      <td>23.387342</td>\n",
              "      <td>99.372070</td>\n",
              "      <td>191.183954</td>\n",
              "      <td>283.768266</td>\n",
              "      <td>410.288368</td>\n",
              "      <td>4304.824040</td>\n",
              "      <td>545.400875</td>\n",
              "      <td>2800.192116</td>\n",
              "      <td>456.279803</td>\n",
              "      <td>1485.652310</td>\n",
              "      <td>986.581571</td>\n",
              "      <td>14.821227</td>\n",
              "      <td>1004.933446</td>\n",
              "      <td>146.215959</td>\n",
              "      <td>81.449286</td>\n",
              "      <td>200.402524</td>\n",
              "      <td>315.145676</td>\n",
              "      <td>124.226215</td>\n",
              "      <td>137.493786</td>\n",
              "      <td>86.468092</td>\n",
              "      <td>47.369779</td>\n",
              "      <td>114.605505</td>\n",
              "      <td>148.719464</td>\n",
              "      <td>105.330565</td>\n",
              "      <td>40.801030</td>\n",
              "      <td>58.705471</td>\n",
              "      <td>33.015462</td>\n",
              "      <td>83.668928</td>\n",
              "      <td>164.341422</td>\n",
              "      <td>18.895650</td>\n",
              "      <td>...</td>\n",
              "      <td>247.812353</td>\n",
              "      <td>566.408386</td>\n",
              "      <td>452.967560</td>\n",
              "      <td>1134.811701</td>\n",
              "      <td>398.505158</td>\n",
              "      <td>824.912636</td>\n",
              "      <td>658.208984</td>\n",
              "      <td>2423.197262</td>\n",
              "      <td>587.520199</td>\n",
              "      <td>401.690214</td>\n",
              "      <td>216.488433</td>\n",
              "      <td>18.789587</td>\n",
              "      <td>2402.0</td>\n",
              "      <td>1487.144374</td>\n",
              "      <td>878.808032</td>\n",
              "      <td>494.647961</td>\n",
              "      <td>36.047594</td>\n",
              "      <td>15586.139610</td>\n",
              "      <td>10969.325830</td>\n",
              "      <td>4288.929237</td>\n",
              "      <td>3154.447727</td>\n",
              "      <td>327.884543</td>\n",
              "      <td>981.015001</td>\n",
              "      <td>242.660946</td>\n",
              "      <td>532.061029</td>\n",
              "      <td>178.466863</td>\n",
              "      <td>NaN</td>\n",
              "      <td>NaN</td>\n",
              "      <td>NaN</td>\n",
              "      <td>NaN</td>\n",
              "      <td>NaN</td>\n",
              "      <td>NaN</td>\n",
              "      <td>675.991208</td>\n",
              "      <td>907.297366</td>\n",
              "      <td>445.716478</td>\n",
              "      <td>461.580888</td>\n",
              "      <td>NaN</td>\n",
              "      <td>NaN</td>\n",
              "      <td>NaN</td>\n",
              "      <td>NaN</td>\n",
              "    </tr>\n",
              "    <tr>\n",
              "      <th>3</th>\n",
              "      <td>69004</td>\n",
              "      <td>84</td>\n",
              "      <td>69</td>\n",
              "      <td>Alix</td>\n",
              "      <td>293.280255</td>\n",
              "      <td>257.699115</td>\n",
              "      <td>10.465041</td>\n",
              "      <td>25.116099</td>\n",
              "      <td>247.078445</td>\n",
              "      <td>46.201811</td>\n",
              "      <td>0.991150</td>\n",
              "      <td>8.920354</td>\n",
              "      <td>30.725664</td>\n",
              "      <td>75.327434</td>\n",
              "      <td>141.734513</td>\n",
              "      <td>1241.911504</td>\n",
              "      <td>223.008850</td>\n",
              "      <td>1122.973451</td>\n",
              "      <td>34.690265</td>\n",
              "      <td>118.938053</td>\n",
              "      <td>267.610619</td>\n",
              "      <td>4.955752</td>\n",
              "      <td>251.752212</td>\n",
              "      <td>48.566372</td>\n",
              "      <td>11.893805</td>\n",
              "      <td>23.787611</td>\n",
              "      <td>87.221239</td>\n",
              "      <td>44.601770</td>\n",
              "      <td>35.681416</td>\n",
              "      <td>40.637168</td>\n",
              "      <td>8.920354</td>\n",
              "      <td>16.849558</td>\n",
              "      <td>85.238938</td>\n",
              "      <td>36.672566</td>\n",
              "      <td>30.725664</td>\n",
              "      <td>7.929204</td>\n",
              "      <td>2.973451</td>\n",
              "      <td>6.938053</td>\n",
              "      <td>1.982301</td>\n",
              "      <td>7.929204</td>\n",
              "      <td>...</td>\n",
              "      <td>36.672566</td>\n",
              "      <td>139.752212</td>\n",
              "      <td>173.451327</td>\n",
              "      <td>322.123894</td>\n",
              "      <td>60.460177</td>\n",
              "      <td>250.761062</td>\n",
              "      <td>253.734513</td>\n",
              "      <td>676.955752</td>\n",
              "      <td>216.070796</td>\n",
              "      <td>40.637168</td>\n",
              "      <td>13.876106</td>\n",
              "      <td>0.991150</td>\n",
              "      <td>672.0</td>\n",
              "      <td>586.761062</td>\n",
              "      <td>83.256637</td>\n",
              "      <td>38.654867</td>\n",
              "      <td>1.982301</td>\n",
              "      <td>4232.212389</td>\n",
              "      <td>3932.884956</td>\n",
              "      <td>257.699115</td>\n",
              "      <td>102.088496</td>\n",
              "      <td>41.628319</td>\n",
              "      <td>250.761062</td>\n",
              "      <td>7.929204</td>\n",
              "      <td>94.159292</td>\n",
              "      <td>107.044248</td>\n",
              "      <td>NaN</td>\n",
              "      <td>NaN</td>\n",
              "      <td>NaN</td>\n",
              "      <td>NaN</td>\n",
              "      <td>NaN</td>\n",
              "      <td>NaN</td>\n",
              "      <td>213.097345</td>\n",
              "      <td>246.796460</td>\n",
              "      <td>92.176991</td>\n",
              "      <td>154.619469</td>\n",
              "      <td>NaN</td>\n",
              "      <td>NaN</td>\n",
              "      <td>NaN</td>\n",
              "      <td>NaN</td>\n",
              "    </tr>\n",
              "    <tr>\n",
              "      <th>4</th>\n",
              "      <td>69005</td>\n",
              "      <td>84</td>\n",
              "      <td>69</td>\n",
              "      <td>Ambérieux</td>\n",
              "      <td>221.629187</td>\n",
              "      <td>210.092150</td>\n",
              "      <td>0.000000</td>\n",
              "      <td>11.537037</td>\n",
              "      <td>199.867055</td>\n",
              "      <td>20.775784</td>\n",
              "      <td>1.972696</td>\n",
              "      <td>10.849829</td>\n",
              "      <td>24.658703</td>\n",
              "      <td>53.262799</td>\n",
              "      <td>119.348123</td>\n",
              "      <td>989.307167</td>\n",
              "      <td>189.378840</td>\n",
              "      <td>932.098976</td>\n",
              "      <td>19.726962</td>\n",
              "      <td>56.221843</td>\n",
              "      <td>212.064846</td>\n",
              "      <td>0.000000</td>\n",
              "      <td>204.174061</td>\n",
              "      <td>22.686007</td>\n",
              "      <td>12.822526</td>\n",
              "      <td>39.453925</td>\n",
              "      <td>37.481229</td>\n",
              "      <td>68.058020</td>\n",
              "      <td>23.672355</td>\n",
              "      <td>21.699659</td>\n",
              "      <td>10.849829</td>\n",
              "      <td>31.563140</td>\n",
              "      <td>35.508532</td>\n",
              "      <td>67.071672</td>\n",
              "      <td>16.767918</td>\n",
              "      <td>0.986348</td>\n",
              "      <td>1.972696</td>\n",
              "      <td>7.890785</td>\n",
              "      <td>1.972696</td>\n",
              "      <td>0.000000</td>\n",
              "      <td>...</td>\n",
              "      <td>65.098976</td>\n",
              "      <td>100.607509</td>\n",
              "      <td>82.853242</td>\n",
              "      <td>329.440273</td>\n",
              "      <td>115.402730</td>\n",
              "      <td>144.006826</td>\n",
              "      <td>129.211604</td>\n",
              "      <td>600.686007</td>\n",
              "      <td>168.665529</td>\n",
              "      <td>37.481229</td>\n",
              "      <td>0.000000</td>\n",
              "      <td>3.945392</td>\n",
              "      <td>578.0</td>\n",
              "      <td>475.419795</td>\n",
              "      <td>94.689420</td>\n",
              "      <td>0.000000</td>\n",
              "      <td>7.890785</td>\n",
              "      <td>3300.320819</td>\n",
              "      <td>3028.088737</td>\n",
              "      <td>203.187713</td>\n",
              "      <td>0.000000</td>\n",
              "      <td>69.044369</td>\n",
              "      <td>207.133106</td>\n",
              "      <td>4.931741</td>\n",
              "      <td>144.006826</td>\n",
              "      <td>43.399317</td>\n",
              "      <td>NaN</td>\n",
              "      <td>NaN</td>\n",
              "      <td>NaN</td>\n",
              "      <td>NaN</td>\n",
              "      <td>NaN</td>\n",
              "      <td>NaN</td>\n",
              "      <td>197.269625</td>\n",
              "      <td>203.187713</td>\n",
              "      <td>68.058020</td>\n",
              "      <td>135.129693</td>\n",
              "      <td>NaN</td>\n",
              "      <td>NaN</td>\n",
              "      <td>NaN</td>\n",
              "      <td>NaN</td>\n",
              "    </tr>\n",
              "    <tr>\n",
              "      <th>...</th>\n",
              "      <td>...</td>\n",
              "      <td>...</td>\n",
              "      <td>...</td>\n",
              "      <td>...</td>\n",
              "      <td>...</td>\n",
              "      <td>...</td>\n",
              "      <td>...</td>\n",
              "      <td>...</td>\n",
              "      <td>...</td>\n",
              "      <td>...</td>\n",
              "      <td>...</td>\n",
              "      <td>...</td>\n",
              "      <td>...</td>\n",
              "      <td>...</td>\n",
              "      <td>...</td>\n",
              "      <td>...</td>\n",
              "      <td>...</td>\n",
              "      <td>...</td>\n",
              "      <td>...</td>\n",
              "      <td>...</td>\n",
              "      <td>...</td>\n",
              "      <td>...</td>\n",
              "      <td>...</td>\n",
              "      <td>...</td>\n",
              "      <td>...</td>\n",
              "      <td>...</td>\n",
              "      <td>...</td>\n",
              "      <td>...</td>\n",
              "      <td>...</td>\n",
              "      <td>...</td>\n",
              "      <td>...</td>\n",
              "      <td>...</td>\n",
              "      <td>...</td>\n",
              "      <td>...</td>\n",
              "      <td>...</td>\n",
              "      <td>...</td>\n",
              "      <td>...</td>\n",
              "      <td>...</td>\n",
              "      <td>...</td>\n",
              "      <td>...</td>\n",
              "      <td>...</td>\n",
              "      <td>...</td>\n",
              "      <td>...</td>\n",
              "      <td>...</td>\n",
              "      <td>...</td>\n",
              "      <td>...</td>\n",
              "      <td>...</td>\n",
              "      <td>...</td>\n",
              "      <td>...</td>\n",
              "      <td>...</td>\n",
              "      <td>...</td>\n",
              "      <td>...</td>\n",
              "      <td>...</td>\n",
              "      <td>...</td>\n",
              "      <td>...</td>\n",
              "      <td>...</td>\n",
              "      <td>...</td>\n",
              "      <td>...</td>\n",
              "      <td>...</td>\n",
              "      <td>...</td>\n",
              "      <td>...</td>\n",
              "      <td>...</td>\n",
              "      <td>...</td>\n",
              "      <td>...</td>\n",
              "      <td>...</td>\n",
              "      <td>...</td>\n",
              "      <td>...</td>\n",
              "      <td>...</td>\n",
              "      <td>...</td>\n",
              "      <td>...</td>\n",
              "      <td>...</td>\n",
              "      <td>...</td>\n",
              "      <td>...</td>\n",
              "      <td>...</td>\n",
              "      <td>...</td>\n",
              "      <td>...</td>\n",
              "      <td>...</td>\n",
              "      <td>...</td>\n",
              "      <td>...</td>\n",
              "      <td>...</td>\n",
              "      <td>...</td>\n",
              "    </tr>\n",
              "    <tr>\n",
              "      <th>262</th>\n",
              "      <td>69295</td>\n",
              "      <td>84</td>\n",
              "      <td>69</td>\n",
              "      <td>Simandres</td>\n",
              "      <td>732.000000</td>\n",
              "      <td>695.000000</td>\n",
              "      <td>3.000000</td>\n",
              "      <td>34.000000</td>\n",
              "      <td>558.000000</td>\n",
              "      <td>173.000000</td>\n",
              "      <td>7.000000</td>\n",
              "      <td>55.000000</td>\n",
              "      <td>91.000000</td>\n",
              "      <td>185.000000</td>\n",
              "      <td>357.000000</td>\n",
              "      <td>3151.000000</td>\n",
              "      <td>535.000000</td>\n",
              "      <td>2701.000000</td>\n",
              "      <td>159.000000</td>\n",
              "      <td>447.000000</td>\n",
              "      <td>685.000000</td>\n",
              "      <td>10.000000</td>\n",
              "      <td>640.000000</td>\n",
              "      <td>53.000000</td>\n",
              "      <td>31.000000</td>\n",
              "      <td>49.000000</td>\n",
              "      <td>210.000000</td>\n",
              "      <td>180.000000</td>\n",
              "      <td>117.000000</td>\n",
              "      <td>49.000000</td>\n",
              "      <td>16.000000</td>\n",
              "      <td>45.000000</td>\n",
              "      <td>197.000000</td>\n",
              "      <td>131.000000</td>\n",
              "      <td>80.000000</td>\n",
              "      <td>4.000000</td>\n",
              "      <td>15.000000</td>\n",
              "      <td>4.000000</td>\n",
              "      <td>12.000000</td>\n",
              "      <td>49.000000</td>\n",
              "      <td>...</td>\n",
              "      <td>190.000000</td>\n",
              "      <td>317.000000</td>\n",
              "      <td>268.000000</td>\n",
              "      <td>1037.000000</td>\n",
              "      <td>268.000000</td>\n",
              "      <td>472.000000</td>\n",
              "      <td>429.000000</td>\n",
              "      <td>1982.000000</td>\n",
              "      <td>549.000000</td>\n",
              "      <td>132.000000</td>\n",
              "      <td>23.000000</td>\n",
              "      <td>14.000000</td>\n",
              "      <td>1812.0</td>\n",
              "      <td>1498.000000</td>\n",
              "      <td>283.000000</td>\n",
              "      <td>48.000000</td>\n",
              "      <td>31.000000</td>\n",
              "      <td>10879.000000</td>\n",
              "      <td>10106.000000</td>\n",
              "      <td>617.000000</td>\n",
              "      <td>72.000000</td>\n",
              "      <td>156.000000</td>\n",
              "      <td>685.000000</td>\n",
              "      <td>52.000000</td>\n",
              "      <td>290.000000</td>\n",
              "      <td>252.000000</td>\n",
              "      <td>NaN</td>\n",
              "      <td>NaN</td>\n",
              "      <td>NaN</td>\n",
              "      <td>NaN</td>\n",
              "      <td>NaN</td>\n",
              "      <td>NaN</td>\n",
              "      <td>611.000000</td>\n",
              "      <td>672.000000</td>\n",
              "      <td>233.000000</td>\n",
              "      <td>439.000000</td>\n",
              "      <td>NaN</td>\n",
              "      <td>NaN</td>\n",
              "      <td>NaN</td>\n",
              "      <td>NaN</td>\n",
              "    </tr>\n",
              "    <tr>\n",
              "      <th>263</th>\n",
              "      <td>69296</td>\n",
              "      <td>84</td>\n",
              "      <td>69</td>\n",
              "      <td>Solaize</td>\n",
              "      <td>1208.706827</td>\n",
              "      <td>1128.000000</td>\n",
              "      <td>8.070683</td>\n",
              "      <td>72.636145</td>\n",
              "      <td>979.311931</td>\n",
              "      <td>222.323993</td>\n",
              "      <td>12.302210</td>\n",
              "      <td>71.493032</td>\n",
              "      <td>140.303003</td>\n",
              "      <td>332.563111</td>\n",
              "      <td>571.338643</td>\n",
              "      <td>5211.857713</td>\n",
              "      <td>922.817152</td>\n",
              "      <td>4588.266347</td>\n",
              "      <td>202.147287</td>\n",
              "      <td>613.522453</td>\n",
              "      <td>1104.262710</td>\n",
              "      <td>4.918675</td>\n",
              "      <td>1098.554193</td>\n",
              "      <td>97.095381</td>\n",
              "      <td>51.721582</td>\n",
              "      <td>133.566423</td>\n",
              "      <td>369.678554</td>\n",
              "      <td>278.883975</td>\n",
              "      <td>167.608278</td>\n",
              "      <td>80.827196</td>\n",
              "      <td>42.529875</td>\n",
              "      <td>118.324766</td>\n",
              "      <td>332.130632</td>\n",
              "      <td>213.835317</td>\n",
              "      <td>124.042673</td>\n",
              "      <td>16.268185</td>\n",
              "      <td>9.191707</td>\n",
              "      <td>14.215577</td>\n",
              "      <td>37.547923</td>\n",
              "      <td>64.033332</td>\n",
              "      <td>...</td>\n",
              "      <td>302.543135</td>\n",
              "      <td>443.271204</td>\n",
              "      <td>558.346692</td>\n",
              "      <td>1616.838968</td>\n",
              "      <td>438.305159</td>\n",
              "      <td>664.949048</td>\n",
              "      <td>823.737095</td>\n",
              "      <td>3284.866410</td>\n",
              "      <td>860.462830</td>\n",
              "      <td>240.046848</td>\n",
              "      <td>25.469639</td>\n",
              "      <td>27.490322</td>\n",
              "      <td>2921.0</td>\n",
              "      <td>2340.066722</td>\n",
              "      <td>533.369542</td>\n",
              "      <td>42.645051</td>\n",
              "      <td>47.563735</td>\n",
              "      <td>19687.879652</td>\n",
              "      <td>17561.899471</td>\n",
              "      <td>1595.871812</td>\n",
              "      <td>205.765914</td>\n",
              "      <td>530.108369</td>\n",
              "      <td>1093.529321</td>\n",
              "      <td>48.845223</td>\n",
              "      <td>585.137283</td>\n",
              "      <td>374.004162</td>\n",
              "      <td>NaN</td>\n",
              "      <td>NaN</td>\n",
              "      <td>NaN</td>\n",
              "      <td>NaN</td>\n",
              "      <td>NaN</td>\n",
              "      <td>NaN</td>\n",
              "      <td>1006.309622</td>\n",
              "      <td>1061.497789</td>\n",
              "      <td>398.461032</td>\n",
              "      <td>663.036757</td>\n",
              "      <td>NaN</td>\n",
              "      <td>NaN</td>\n",
              "      <td>NaN</td>\n",
              "      <td>NaN</td>\n",
              "    </tr>\n",
              "    <tr>\n",
              "      <th>264</th>\n",
              "      <td>69297</td>\n",
              "      <td>84</td>\n",
              "      <td>69</td>\n",
              "      <td>Ternay</td>\n",
              "      <td>2202.342949</td>\n",
              "      <td>2081.000000</td>\n",
              "      <td>22.433150</td>\n",
              "      <td>98.909799</td>\n",
              "      <td>1806.878500</td>\n",
              "      <td>386.315198</td>\n",
              "      <td>5.119629</td>\n",
              "      <td>82.227566</td>\n",
              "      <td>313.187599</td>\n",
              "      <td>639.762167</td>\n",
              "      <td>1040.703038</td>\n",
              "      <td>9576.232292</td>\n",
              "      <td>1728.362475</td>\n",
              "      <td>8415.292822</td>\n",
              "      <td>345.527652</td>\n",
              "      <td>1139.581723</td>\n",
              "      <td>2064.733342</td>\n",
              "      <td>55.729181</td>\n",
              "      <td>2079.989035</td>\n",
              "      <td>151.193883</td>\n",
              "      <td>57.119061</td>\n",
              "      <td>346.092957</td>\n",
              "      <td>786.683813</td>\n",
              "      <td>495.538124</td>\n",
              "      <td>243.361197</td>\n",
              "      <td>134.841723</td>\n",
              "      <td>45.853182</td>\n",
              "      <td>281.756883</td>\n",
              "      <td>728.535351</td>\n",
              "      <td>384.006049</td>\n",
              "      <td>152.358322</td>\n",
              "      <td>16.352160</td>\n",
              "      <td>11.265879</td>\n",
              "      <td>62.312520</td>\n",
              "      <td>53.062143</td>\n",
              "      <td>111.532075</td>\n",
              "      <td>...</td>\n",
              "      <td>395.289042</td>\n",
              "      <td>878.404994</td>\n",
              "      <td>1024.418273</td>\n",
              "      <td>3150.887690</td>\n",
              "      <td>606.865349</td>\n",
              "      <td>1247.519511</td>\n",
              "      <td>1530.912929</td>\n",
              "      <td>6190.934504</td>\n",
              "      <td>1597.548230</td>\n",
              "      <td>455.897181</td>\n",
              "      <td>161.893098</td>\n",
              "      <td>27.554588</td>\n",
              "      <td>5449.0</td>\n",
              "      <td>4213.384066</td>\n",
              "      <td>1167.509468</td>\n",
              "      <td>459.987601</td>\n",
              "      <td>68.106466</td>\n",
              "      <td>38251.487277</td>\n",
              "      <td>34058.458693</td>\n",
              "      <td>3690.551515</td>\n",
              "      <td>1685.026023</td>\n",
              "      <td>502.477070</td>\n",
              "      <td>2043.284587</td>\n",
              "      <td>71.305884</td>\n",
              "      <td>1199.812034</td>\n",
              "      <td>647.952659</td>\n",
              "      <td>NaN</td>\n",
              "      <td>NaN</td>\n",
              "      <td>NaN</td>\n",
              "      <td>NaN</td>\n",
              "      <td>NaN</td>\n",
              "      <td>NaN</td>\n",
              "      <td>1783.874652</td>\n",
              "      <td>1977.175598</td>\n",
              "      <td>777.386455</td>\n",
              "      <td>1199.789143</td>\n",
              "      <td>NaN</td>\n",
              "      <td>NaN</td>\n",
              "      <td>NaN</td>\n",
              "      <td>NaN</td>\n",
              "    </tr>\n",
              "    <tr>\n",
              "      <th>265</th>\n",
              "      <td>69298</td>\n",
              "      <td>84</td>\n",
              "      <td>69</td>\n",
              "      <td>Toussieu</td>\n",
              "      <td>1164.000000</td>\n",
              "      <td>1116.000000</td>\n",
              "      <td>6.000000</td>\n",
              "      <td>42.000000</td>\n",
              "      <td>975.000000</td>\n",
              "      <td>187.000000</td>\n",
              "      <td>1.000000</td>\n",
              "      <td>46.000000</td>\n",
              "      <td>159.000000</td>\n",
              "      <td>305.000000</td>\n",
              "      <td>605.000000</td>\n",
              "      <td>5249.000000</td>\n",
              "      <td>938.000000</td>\n",
              "      <td>4708.000000</td>\n",
              "      <td>176.000000</td>\n",
              "      <td>535.000000</td>\n",
              "      <td>1115.000000</td>\n",
              "      <td>30.000000</td>\n",
              "      <td>1056.000000</td>\n",
              "      <td>93.000000</td>\n",
              "      <td>32.000000</td>\n",
              "      <td>124.000000</td>\n",
              "      <td>296.000000</td>\n",
              "      <td>248.000000</td>\n",
              "      <td>263.000000</td>\n",
              "      <td>83.000000</td>\n",
              "      <td>28.000000</td>\n",
              "      <td>110.000000</td>\n",
              "      <td>267.000000</td>\n",
              "      <td>202.000000</td>\n",
              "      <td>208.000000</td>\n",
              "      <td>10.000000</td>\n",
              "      <td>4.000000</td>\n",
              "      <td>14.000000</td>\n",
              "      <td>28.000000</td>\n",
              "      <td>45.000000</td>\n",
              "      <td>...</td>\n",
              "      <td>259.000000</td>\n",
              "      <td>698.000000</td>\n",
              "      <td>597.000000</td>\n",
              "      <td>1477.000000</td>\n",
              "      <td>401.000000</td>\n",
              "      <td>957.000000</td>\n",
              "      <td>850.000000</td>\n",
              "      <td>3041.000000</td>\n",
              "      <td>933.000000</td>\n",
              "      <td>167.000000</td>\n",
              "      <td>53.000000</td>\n",
              "      <td>16.000000</td>\n",
              "      <td>3031.0</td>\n",
              "      <td>2610.000000</td>\n",
              "      <td>380.000000</td>\n",
              "      <td>106.000000</td>\n",
              "      <td>41.000000</td>\n",
              "      <td>18121.000000</td>\n",
              "      <td>16671.000000</td>\n",
              "      <td>1164.000000</td>\n",
              "      <td>653.000000</td>\n",
              "      <td>286.000000</td>\n",
              "      <td>1095.000000</td>\n",
              "      <td>24.000000</td>\n",
              "      <td>556.000000</td>\n",
              "      <td>431.000000</td>\n",
              "      <td>NaN</td>\n",
              "      <td>NaN</td>\n",
              "      <td>NaN</td>\n",
              "      <td>NaN</td>\n",
              "      <td>NaN</td>\n",
              "      <td>NaN</td>\n",
              "      <td>1007.000000</td>\n",
              "      <td>1061.000000</td>\n",
              "      <td>333.000000</td>\n",
              "      <td>728.000000</td>\n",
              "      <td>NaN</td>\n",
              "      <td>NaN</td>\n",
              "      <td>NaN</td>\n",
              "      <td>NaN</td>\n",
              "    </tr>\n",
              "    <tr>\n",
              "      <th>266</th>\n",
              "      <td>69299</td>\n",
              "      <td>84</td>\n",
              "      <td>69</td>\n",
              "      <td>Colombier-Saugnieu</td>\n",
              "      <td>1017.886948</td>\n",
              "      <td>962.000000</td>\n",
              "      <td>12.419322</td>\n",
              "      <td>43.467626</td>\n",
              "      <td>899.440662</td>\n",
              "      <td>106.892030</td>\n",
              "      <td>22.220496</td>\n",
              "      <td>53.852754</td>\n",
              "      <td>108.852910</td>\n",
              "      <td>299.871079</td>\n",
              "      <td>477.202761</td>\n",
              "      <td>4359.751722</td>\n",
              "      <td>849.763376</td>\n",
              "      <td>4071.263334</td>\n",
              "      <td>100.682370</td>\n",
              "      <td>265.467450</td>\n",
              "      <td>951.148099</td>\n",
              "      <td>10.199459</td>\n",
              "      <td>958.932205</td>\n",
              "      <td>176.098470</td>\n",
              "      <td>54.222813</td>\n",
              "      <td>62.362746</td>\n",
              "      <td>316.840408</td>\n",
              "      <td>217.753243</td>\n",
              "      <td>131.654524</td>\n",
              "      <td>161.355039</td>\n",
              "      <td>43.747903</td>\n",
              "      <td>46.642857</td>\n",
              "      <td>289.721744</td>\n",
              "      <td>186.209136</td>\n",
              "      <td>119.018902</td>\n",
              "      <td>13.715245</td>\n",
              "      <td>10.474910</td>\n",
              "      <td>15.719889</td>\n",
              "      <td>19.711833</td>\n",
              "      <td>29.453057</td>\n",
              "      <td>...</td>\n",
              "      <td>198.937400</td>\n",
              "      <td>357.265281</td>\n",
              "      <td>453.462331</td>\n",
              "      <td>1516.334988</td>\n",
              "      <td>305.566739</td>\n",
              "      <td>549.414971</td>\n",
              "      <td>684.212786</td>\n",
              "      <td>2820.557226</td>\n",
              "      <td>762.294544</td>\n",
              "      <td>177.936680</td>\n",
              "      <td>3.051588</td>\n",
              "      <td>21.768776</td>\n",
              "      <td>2526.0</td>\n",
              "      <td>2067.557300</td>\n",
              "      <td>404.008686</td>\n",
              "      <td>11.042866</td>\n",
              "      <td>54.434014</td>\n",
              "      <td>16835.176539</td>\n",
              "      <td>15520.898391</td>\n",
              "      <td>1045.980833</td>\n",
              "      <td>34.900449</td>\n",
              "      <td>268.297315</td>\n",
              "      <td>940.979377</td>\n",
              "      <td>19.832917</td>\n",
              "      <td>316.040993</td>\n",
              "      <td>410.122231</td>\n",
              "      <td>NaN</td>\n",
              "      <td>NaN</td>\n",
              "      <td>NaN</td>\n",
              "      <td>NaN</td>\n",
              "      <td>NaN</td>\n",
              "      <td>NaN</td>\n",
              "      <td>813.358060</td>\n",
              "      <td>916.460298</td>\n",
              "      <td>320.042182</td>\n",
              "      <td>596.418115</td>\n",
              "      <td>NaN</td>\n",
              "      <td>NaN</td>\n",
              "      <td>NaN</td>\n",
              "      <td>NaN</td>\n",
              "    </tr>\n",
              "  </tbody>\n",
              "</table>\n",
              "<p>267 rows × 90 columns</p>\n",
              "</div>"
            ],
            "text/plain": [
              "     CODGEO  REG  DEP  ... P17_RP_CASE  P17_RP_MIBOIS  P17_RP_MIDUR\n",
              "0     69001   84   69  ...         NaN            NaN           NaN\n",
              "1     69002   84   69  ...         NaN            NaN           NaN\n",
              "2     69003   84   69  ...         NaN            NaN           NaN\n",
              "3     69004   84   69  ...         NaN            NaN           NaN\n",
              "4     69005   84   69  ...         NaN            NaN           NaN\n",
              "..      ...  ...  ...  ...         ...            ...           ...\n",
              "262   69295   84   69  ...         NaN            NaN           NaN\n",
              "263   69296   84   69  ...         NaN            NaN           NaN\n",
              "264   69297   84   69  ...         NaN            NaN           NaN\n",
              "265   69298   84   69  ...         NaN            NaN           NaN\n",
              "266   69299   84   69  ...         NaN            NaN           NaN\n",
              "\n",
              "[267 rows x 90 columns]"
            ]
          },
          "metadata": {},
          "execution_count": 133
        }
      ]
    },
    {
      "cell_type": "code",
      "source": [
        "#@title\n",
        "#On calule le nombre de maison\n",
        "val_ville = logement[logement.LIBGEO==Ville]\n",
        "vnbmaison = sum(val_ville['P17_MAISON'])\n",
        "print(\"Nombre de maison : {:.0f}\".format(vnbmaison))\n",
        "\n",
        "#On calcule le nombre total de logement \n",
        "vnblog = sum(val_ville['P17_LOG'])\n",
        "print(\"Nombre total de logements : {:.0f}\".format(vnblog))\n",
        "\n",
        "#On calcule la proportion des maisons\n",
        "vpropmaison = vnbmaison/vnblog\n",
        "vpropmaison = vnbmaison/vnblog\n",
        "print(\"Proportion des maisons par rapport à l'ensemble : {:.2%}\".format(vpropmaison))"
      ],
      "metadata": {
        "colab": {
          "base_uri": "https://localhost:8080/"
        },
        "id": "67xUwvjLc16A",
        "outputId": "40112999-a0ba-4516-c81c-0e957fae5c86",
        "cellView": "form"
      },
      "execution_count": null,
      "outputs": [
        {
          "output_type": "stream",
          "name": "stdout",
          "text": [
            "Nombre de maison : 379\n",
            "Nombre total de logements : 464\n",
            "Proportion des maisons par rapport à l'ensemble : 81.75%\n"
          ]
        }
      ]
    },
    {
      "cell_type": "code",
      "source": [
        "#@title\n",
        "#On calcule le nombre d'appartements\n",
        "vnbappart = sum(val_ville['P17_APPART'])\n",
        "print(\"Nombre d'appartements : {:.0f}\".format(vnbappart))\n",
        "\n",
        "#On calcule la proportion des appartements\n",
        "vpropappart = vnbappart/vnblog\n",
        "vpropappart = vnbappart/vnblog\n",
        "print(\"Proportion des appartements par rapport à l'ensemble : {:.2%}\".format(vpropappart))"
      ],
      "metadata": {
        "colab": {
          "base_uri": "https://localhost:8080/"
        },
        "id": "qjoROPdIhQtV",
        "outputId": "080ab6be-4bbc-4098-8d52-b340ad33bc81",
        "cellView": "form"
      },
      "execution_count": null,
      "outputs": [
        {
          "output_type": "stream",
          "name": "stdout",
          "text": [
            "Nombre d'appartements : 83\n",
            "Proportion des appartements par rapport à l'ensemble : 17.80%\n"
          ]
        }
      ]
    },
    {
      "cell_type": "code",
      "source": [
        "#@title\n",
        "#On crée un diagramme circulaire représentant la répartition des maisons et appartements \n",
        "import matplotlib.pyplot as plt\n",
        "\n",
        "labels = 'Appartements', 'Maisons'\n",
        "sizes = [vpropmaison, vpropappart]\n",
        "colors = ['teal', 'cadetblue']\n",
        "\n",
        "plt.pie(sizes, labels=labels, colors=colors, \n",
        "        autopct='%1.1f%%', shadow=True, startangle=90)\n",
        "\n",
        "plt.axis('equal')\n",
        "\n",
        "plt.savefig('PieChart01.png')\n",
        "plt.title('Répartition des maisons et appartements', fontsize=14)\n",
        "plt.show()"
      ],
      "metadata": {
        "colab": {
          "base_uri": "https://localhost:8080/",
          "height": 266
        },
        "id": "T1gctpWPhjG8",
        "outputId": "3f693961-882b-4434-dfc1-c9f39e552368",
        "cellView": "form"
      },
      "execution_count": null,
      "outputs": [
        {
          "output_type": "display_data",
          "data": {
            "image/png": "[encoded data removed]",
            "text/plain": [
              "<Figure size 432x288 with 1 Axes>"
            ]
          },
          "metadata": {}
        }
      ]
    },
    {
      "cell_type": "code",
      "source": [
        "#@title\n",
        "#On calcule le nombre de résidence principale \n",
        "vnbrp = sum(val_ville['P17_RP'])\n",
        "print(\"Nombre de résidences principales : {:.0f}\".format(vnbrp))\n",
        "\n",
        "#On calcule la proportion des résidences principales\n",
        "vproprp = vnbrp/vnblog\n",
        "vproprp = (vnbrp/vnblog)\n",
        "print(\"Proportion des résidences principales par rapport à l'ensemble : {:.2%}\".format(vproprp))\n"
      ],
      "metadata": {
        "colab": {
          "base_uri": "https://localhost:8080/"
        },
        "id": "p24_vXQApteP",
        "outputId": "544213bc-1ec9-40c3-a9af-a4144c7a1cda",
        "cellView": "form"
      },
      "execution_count": null,
      "outputs": [
        {
          "output_type": "stream",
          "name": "stdout",
          "text": [
            "Nombre de résidences principales : 399\n",
            "Proportion des résidences principales par rapport à l'ensemble : 85.99%\n"
          ]
        }
      ]
    },
    {
      "cell_type": "code",
      "source": [
        "#@title\n",
        "#On calcule le nombre de résidence secondaire occasionnelle \n",
        "vnbrso = sum(val_ville['P17_RSECOCC'])\n",
        "print(\"Nombre de résidences secondaires occasionnelles : {:.0f}\".format(vnbrso))\n",
        "\n",
        "#On calcule le nombre de résidences de vacances\n",
        "vnbvac = sum(val_ville['P17_LOGVAC'])\n",
        "print(\"Nombre de logements vacances : {:.0f}\".format(vnbvac))\n",
        "\n",
        "#On calcule la proportion des résidences secondaires occasionnels \n",
        "vproprso = (vnbrso+vnbvac)/vnblog\n",
        "print(\"Proportion des résidences secondaires occasionnels par rapport à l'ensemble : {:.2%}\".format(vproprso))"
      ],
      "metadata": {
        "colab": {
          "base_uri": "https://localhost:8080/"
        },
        "id": "UD01qWsvqkCE",
        "outputId": "b12e7750-c5c6-47ea-86d1-4a8463eecfb1",
        "cellView": "form"
      },
      "execution_count": null,
      "outputs": [
        {
          "output_type": "stream",
          "name": "stdout",
          "text": [
            "Nombre de résidences secondaires occasionnelles : 25\n",
            "Nombre de logements vacances : 40\n",
            "Proportion des résidences secondaires occasionnels par rapport à l'ensemble : 14.01%\n"
          ]
        }
      ]
    },
    {
      "cell_type": "code",
      "source": [
        "#@title\n",
        "#On crée un diagramme circulaire représentant la répartition des résidences principales et secondaires\n",
        "\n",
        "labels = 'Résidence principales', 'Résidence secondaire',\n",
        "sizes = [vproprp, vproprso]\n",
        "colors = ['palevioletred', 'pink']\n",
        "\n",
        "plt.pie(sizes, labels=labels, colors=colors, \n",
        "        autopct='%1.1f%%', shadow=True, startangle=90)\n",
        "\n",
        "plt.axis('equal')\n",
        "\n",
        "plt.savefig('PieChart01.png')\n",
        "plt.title('Répartition des résidences principales et secondaires', fontsize=12)\n",
        "plt.show()"
      ],
      "metadata": {
        "colab": {
          "base_uri": "https://localhost:8080/",
          "height": 264
        },
        "id": "7NKTpiy5p0Bc",
        "outputId": "cec6bbaf-dbc9-400b-8f0d-314c606959f7",
        "cellView": "form"
      },
      "execution_count": null,
      "outputs": [
        {
          "output_type": "display_data",
          "data": {
            "image/png": "[encoded data removed]",
            "text/plain": [
              "<Figure size 432x288 with 1 Axes>"
            ]
          },
          "metadata": {}
        }
      ]
    },
    {
      "cell_type": "code",
      "source": [
        "#@title\n",
        "#On télecharge la bibliothèque folium, elle permet la conception de cartes interactives. \n",
        "import folium as fl"
      ],
      "metadata": {
        "id": "Vl8Ua0cIKXsR",
        "cellView": "form"
      },
      "execution_count": null,
      "outputs": []
    },
    {
      "cell_type": "code",
      "source": [
        "#@title\n",
        "#On va rechercher la latitude et la longitude en fonction de la ville\n",
        "loc = valeur[valeur.nom_commune == Ville][['nom_commune','latitude','longitude']].reset_index().head(1)\n",
        "loc"
      ],
      "metadata": {
        "colab": {
          "base_uri": "https://localhost:8080/",
          "height": 81
        },
        "id": "IYCKc8hoNHnq",
        "outputId": "26f74167-f257-4ddb-fa7d-2333e3ada6cb",
        "cellView": "form"
      },
      "execution_count": null,
      "outputs": [
        {
          "output_type": "execute_result",
          "data": {
            "text/html": [
              "<div>\n",
              "<style scoped>\n",
              "    .dataframe tbody tr th:only-of-type {\n",
              "        vertical-align: middle;\n",
              "    }\n",
              "\n",
              "    .dataframe tbody tr th {\n",
              "        vertical-align: top;\n",
              "    }\n",
              "\n",
              "    .dataframe thead th {\n",
              "        text-align: right;\n",
              "    }\n",
              "</style>\n",
              "<table border=\"1\" class=\"dataframe\">\n",
              "  <thead>\n",
              "    <tr style=\"text-align: right;\">\n",
              "      <th></th>\n",
              "      <th>index</th>\n",
              "      <th>nom_commune</th>\n",
              "      <th>latitude</th>\n",
              "      <th>longitude</th>\n",
              "    </tr>\n",
              "  </thead>\n",
              "  <tbody>\n",
              "    <tr>\n",
              "      <th>0</th>\n",
              "      <td>15366</td>\n",
              "      <td>Sainte-Catherine</td>\n",
              "      <td>45.610473</td>\n",
              "      <td>4.596787</td>\n",
              "    </tr>\n",
              "  </tbody>\n",
              "</table>\n",
              "</div>"
            ],
            "text/plain": [
              "   index       nom_commune   latitude  longitude\n",
              "0  15366  Sainte-Catherine  45.610473   4.596787"
            ]
          },
          "metadata": {},
          "execution_count": 141
        }
      ]
    },
    {
      "cell_type": "code",
      "source": [
        "#@title\n",
        "# On a créé un icône sur le lieu géographique de la ville et en info-bulle on retrouve le nom de la ville\n",
        "m = fl.Map(location=[45.7,4.7], zoom_start=9)\n",
        "for i in range(len(loc)):\n",
        "  fl.Marker(location=[loc.latitude.iloc[i],loc.longitude.iloc[i]], popup = f'{loc.nom_commune.iloc[i]}').add_to(m)\n",
        "m"
      ],
      "metadata": {
        "colab": {
          "base_uri": "https://localhost:8080/",
          "height": 531
        },
        "id": "D5Mz4SHaNL6a",
        "outputId": "a4713538-064f-4708-c05b-5c3f2398b15b",
        "cellView": "form"
      },
      "execution_count": null,
      "outputs": [
        {
          "output_type": "execute_result",
          "data": {
            "text/html": [
              "<div style=\"width:100%;\"><div style=\"position:relative;width:100%;height:0;padding-bottom:60%;\"><span style=\"color:#565656\">Make this Notebook Trusted to load map: File -> Trust Notebook</span><iframe src=\"about:blank\" style=\"position:absolute;width:100%;height:100%;left:0;top:0;border:none !important;\" data-html=%3C%21DOCTYPE%20html%3E%0A%3Chead%3E%20%20%20%20%0A%20%20%20%20%3Cmeta%20http-equiv%3D%22content-type%22%20content%3D%22text/html%3B%20charset%3DUTF-8%22%20/%3E%0A%20%20%20%20%3Cscript%3EL_PREFER_CANVAS%3Dfalse%3B%20L_NO_TOUCH%3Dfalse%3B%20L_DISABLE_3D%3Dfalse%3B%3C/script%3E%0A%20%20%20%20%3Cscript%20src%3D%22https%3A//cdn.jsdelivr.net/npm/leaflet%401.4.0/dist/leaflet.js%22%3E%3C/script%3E%0A%20%20%20%20%3Cscript%20src%3D%22https%3A//code.jquery.com/jquery-1.12.4.min.js%22%3E%3C/script%3E%0A%20%20%20%20%3Cscript%20src%3D%22https%3A//maxcdn.bootstrapcdn.com/bootstrap/3.2.0/js/bootstrap.min.js%22%3E%3C/script%3E%0A%20%20%20%20%3Cscript%20src%3D%22https%3A//cdnjs.cloudflare.com/ajax/libs/Leaflet.awesome-markers/2.0.2/leaflet.awesome-markers.js%22%3E%3C/script%3E%0A%20%20%20%20%3Clink%20rel%3D%22stylesheet%22%20href%3D%22https%3A//cdn.jsdelivr.net/npm/leaflet%401.4.0/dist/leaflet.css%22/%3E%0A%20%20%20%20%3Clink%20rel%3D%22stylesheet%22%20href%3D%22https%3A//maxcdn.bootstrapcdn.com/bootstrap/3.2.0/css/bootstrap.min.css%22/%3E%0A%20%20%20%20%3Clink%20rel%3D%22stylesheet%22%20href%3D%22https%3A//maxcdn.bootstrapcdn.com/bootstrap/3.2.0/css/bootstrap-theme.min.css%22/%3E%0A%20%20%20%20%3Clink%20rel%3D%22stylesheet%22%20href%3D%22https%3A//maxcdn.bootstrapcdn.com/font-awesome/4.6.3/css/font-awesome.min.css%22/%3E%0A%20%20%20%20%3Clink%20rel%3D%22stylesheet%22%20href%3D%22https%3A//cdnjs.cloudflare.com/ajax/libs/Leaflet.awesome-markers/2.0.2/leaflet.awesome-markers.css%22/%3E%0A%20%20%20%20%3Clink%20rel%3D%22stylesheet%22%20href%3D%22https%3A//rawcdn.githack.com/python-visualization/folium/master/folium/templates/leaflet.awesome.rotate.css%22/%3E%0A%20%20%20%20%3Cstyle%3Ehtml%2C%20body%20%7Bwidth%3A%20100%25%3Bheight%3A%20100%25%3Bmargin%3A%200%3Bpadding%3A%200%3B%7D%3C/style%3E%0A%20%20%20%20%3Cstyle%3E%23map%20%7Bposition%3Aabsolute%3Btop%3A0%3Bbottom%3A0%3Bright%3A0%3Bleft%3A0%3B%7D%3C/style%3E%0A%20%20%20%20%0A%20%20%20%20%3Cmeta%20name%3D%22viewport%22%20content%3D%22width%3Ddevice-width%2C%0A%20%20%20%20%20%20%20%20initial-scale%3D1.0%2C%20maximum-scale%3D1.0%2C%20user-scalable%3Dno%22%20/%3E%0A%20%20%20%20%3Cstyle%3E%23map_3b2950edb927496b8052d0edf0b371c9%20%7B%0A%20%20%20%20%20%20%20%20position%3A%20relative%3B%0A%20%20%20%20%20%20%20%20width%3A%20100.0%25%3B%0A%20%20%20%20%20%20%20%20height%3A%20100.0%25%3B%0A%20%20%20%20%20%20%20%20left%3A%200.0%25%3B%0A%20%20%20%20%20%20%20%20top%3A%200.0%25%3B%0A%20%20%20%20%20%20%20%20%7D%0A%20%20%20%20%3C/style%3E%0A%3C/head%3E%0A%3Cbody%3E%20%20%20%20%0A%20%20%20%20%0A%20%20%20%20%3Cdiv%20class%3D%22folium-map%22%20id%3D%22map_3b2950edb927496b8052d0edf0b371c9%22%20%3E%3C/div%3E%0A%3C/body%3E%0A%3Cscript%3E%20%20%20%20%0A%20%20%20%20%0A%20%20%20%20%0A%20%20%20%20%20%20%20%20var%20bounds%20%3D%20null%3B%0A%20%20%20%20%0A%0A%20%20%20%20var%20map_3b2950edb927496b8052d0edf0b371c9%20%3D%20L.map%28%0A%20%20%20%20%20%20%20%20%27map_3b2950edb927496b8052d0edf0b371c9%27%2C%20%7B%0A%20%20%20%20%20%20%20%20center%3A%20%5B45.7%2C%204.7%5D%2C%0A%20%20%20%20%20%20%20%20zoom%3A%209%2C%0A%20%20%20%20%20%20%20%20maxBounds%3A%20bounds%2C%0A%20%20%20%20%20%20%20%20layers%3A%20%5B%5D%2C%0A%20%20%20%20%20%20%20%20worldCopyJump%3A%20false%2C%0A%20%20%20%20%20%20%20%20crs%3A%20L.CRS.EPSG3857%2C%0A%20%20%20%20%20%20%20%20zoomControl%3A%20true%2C%0A%20%20%20%20%20%20%20%20%7D%29%3B%0A%0A%0A%20%20%20%20%0A%20%20%20%20var%20tile_layer_c95f65bf28d941a196d68f6c47f9838e%20%3D%20L.tileLayer%28%0A%20%20%20%20%20%20%20%20%27https%3A//%7Bs%7D.tile.openstreetmap.org/%7Bz%7D/%7Bx%7D/%7By%7D.png%27%2C%0A%20%20%20%20%20%20%20%20%7B%0A%20%20%20%20%20%20%20%20%22attribution%22%3A%20null%2C%0A%20%20%20%20%20%20%20%20%22detectRetina%22%3A%20false%2C%0A%20%20%20%20%20%20%20%20%22maxNativeZoom%22%3A%2018%2C%0A%20%20%20%20%20%20%20%20%22maxZoom%22%3A%2018%2C%0A%20%20%20%20%20%20%20%20%22minZoom%22%3A%200%2C%0A%20%20%20%20%20%20%20%20%22noWrap%22%3A%20false%2C%0A%20%20%20%20%20%20%20%20%22opacity%22%3A%201%2C%0A%20%20%20%20%20%20%20%20%22subdomains%22%3A%20%22abc%22%2C%0A%20%20%20%20%20%20%20%20%22tms%22%3A%20false%0A%7D%29.addTo%28map_3b2950edb927496b8052d0edf0b371c9%29%3B%0A%20%20%20%20%0A%20%20%20%20%20%20%20%20var%20marker_ec38d6c38aa942ea9309d4fd9f290723%20%3D%20L.marker%28%0A%20%20%20%20%20%20%20%20%20%20%20%20%5B45.610473%2C%204.596787%5D%2C%0A%20%20%20%20%20%20%20%20%20%20%20%20%7B%0A%20%20%20%20%20%20%20%20%20%20%20%20%20%20%20%20icon%3A%20new%20L.Icon.Default%28%29%2C%0A%20%20%20%20%20%20%20%20%20%20%20%20%20%20%20%20%7D%0A%20%20%20%20%20%20%20%20%20%20%20%20%29.addTo%28map_3b2950edb927496b8052d0edf0b371c9%29%3B%0A%20%20%20%20%20%20%20%20%0A%20%20%20%20%0A%20%20%20%20%20%20%20%20%20%20%20%20var%20popup_5ada0467fd2f4c85a68e0777e1b347c5%20%3D%20L.popup%28%7BmaxWidth%3A%20%27100%25%27%0A%20%20%20%20%20%20%20%20%20%20%20%20%0A%20%20%20%20%20%20%20%20%20%20%20%20%7D%29%3B%0A%0A%20%20%20%20%20%20%20%20%20%20%20%20%0A%20%20%20%20%20%20%20%20%20%20%20%20%20%20%20%20var%20html_fc36555a8bc6410aa8a32cb77b52ac74%20%3D%20%24%28%60%3Cdiv%20id%3D%22html_fc36555a8bc6410aa8a32cb77b52ac74%22%20style%3D%22width%3A%20100.0%25%3B%20height%3A%20100.0%25%3B%22%3ESainte-Catherine%3C/div%3E%60%29%5B0%5D%3B%0A%20%20%20%20%20%20%20%20%20%20%20%20%20%20%20%20popup_5ada0467fd2f4c85a68e0777e1b347c5.setContent%28html_fc36555a8bc6410aa8a32cb77b52ac74%29%3B%0A%20%20%20%20%20%20%20%20%20%20%20%20%0A%0A%20%20%20%20%20%20%20%20%20%20%20%20marker_ec38d6c38aa942ea9309d4fd9f290723.bindPopup%28popup_5ada0467fd2f4c85a68e0777e1b347c5%29%0A%20%20%20%20%20%20%20%20%20%20%20%20%3B%0A%0A%20%20%20%20%20%20%20%20%20%20%20%20%0A%20%20%20%20%20%20%20%20%0A%3C/script%3E onload=\"this.contentDocument.open();this.contentDocument.write(    decodeURIComponent(this.getAttribute('data-html')));this.contentDocument.close();\" allowfullscreen webkitallowfullscreen mozallowfullscreen></iframe></div></div>"
            ],
            "text/plain": [
              "<folium.folium.Map at 0x7f47c97a5910>"
            ]
          },
          "metadata": {},
          "execution_count": 142
        }
      ]
    }
  ]
}